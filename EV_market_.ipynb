{
  "nbformat": 4,
  "nbformat_minor": 0,
  "metadata": {
    "colab": {
      "provenance": []
    },
    "kernelspec": {
      "name": "python3",
      "display_name": "Python 3"
    },
    "language_info": {
      "name": "python"
    }
  },
  "cells": [
    {
      "cell_type": "code",
      "execution_count": null,
      "metadata": {
        "id": "ND7MuoNwjnL7"
      },
      "outputs": [],
      "source": [
        "import numpy as np                                                 \n",
        "import pandas as pd                                                                                          \n",
        "import matplotlib.pyplot as plt                                    \n",
        "import seaborn as sns"
      ]
    },
    {
      "cell_type": "code",
      "source": [
        "df=pd.read_csv('/content/EVdataset.csv')\n",
        "df.head()"
      ],
      "metadata": {
        "colab": {
          "base_uri": "https://localhost:8080/",
          "height": 354
        },
        "id": "gllvGNjuxJ6s",
        "outputId": "dacc0aea-9a32-4828-9ebe-bba2afc85d87"
      },
      "execution_count": null,
      "outputs": [
        {
          "output_type": "execute_result",
          "data": {
            "text/plain": [
              "   Age        City Gender Education Level            Occupation  \\\n",
              "0    29    Kolkata   Male    Postgraduate  Working Professional   \n",
              "1    29     Mumbai   Male        Graduate  Working Professional   \n",
              "2    25     Mumbai   Male        Graduate  Working Professional   \n",
              "3    25  Bangalore   Male        Graduate  Working Professional   \n",
              "4    21     Mumbai   Male    Postgraduate               Student   \n",
              "\n",
              "   Family Members  Annual Income  Charging Hours Electric Cars are economical  \\\n",
              "0               5         150000               1                          Yes   \n",
              "1               4        1000000               1                          Yes   \n",
              "2               4           5000               5                          Yes   \n",
              "3               4         750000               1                   Don't know   \n",
              "4               4           5000              12                   Don't know   \n",
              "\n",
              "   Charging stations Convert your car to all electric Hybrid or Both  \\\n",
              "0                 15                              Yes     Hybrid car   \n",
              "1                  8                              Yes   Electric car   \n",
              "2                 15            Didn't think about it     Hybrid car   \n",
              "3                  8            Didn't think about it     Hybrid car   \n",
              "4                 15            Didn't think about it     Hybrid car   \n",
              "\n",
              "   Next car will be electric car?  \n",
              "0                               5  \n",
              "1                               5  \n",
              "2                               5  \n",
              "3                               5  \n",
              "4                               5  "
            ],
            "text/html": [
              "\n",
              "  <div id=\"df-c0157ff3-d5f9-4524-8ed1-a9fa0578d2cd\">\n",
              "    <div class=\"colab-df-container\">\n",
              "      <div>\n",
              "<style scoped>\n",
              "    .dataframe tbody tr th:only-of-type {\n",
              "        vertical-align: middle;\n",
              "    }\n",
              "\n",
              "    .dataframe tbody tr th {\n",
              "        vertical-align: top;\n",
              "    }\n",
              "\n",
              "    .dataframe thead th {\n",
              "        text-align: right;\n",
              "    }\n",
              "</style>\n",
              "<table border=\"1\" class=\"dataframe\">\n",
              "  <thead>\n",
              "    <tr style=\"text-align: right;\">\n",
              "      <th></th>\n",
              "      <th>Age</th>\n",
              "      <th>City</th>\n",
              "      <th>Gender</th>\n",
              "      <th>Education Level</th>\n",
              "      <th>Occupation</th>\n",
              "      <th>Family Members</th>\n",
              "      <th>Annual Income</th>\n",
              "      <th>Charging Hours</th>\n",
              "      <th>Electric Cars are economical</th>\n",
              "      <th>Charging stations</th>\n",
              "      <th>Convert your car to all electric</th>\n",
              "      <th>Hybrid or Both</th>\n",
              "      <th>Next car will be electric car?</th>\n",
              "    </tr>\n",
              "  </thead>\n",
              "  <tbody>\n",
              "    <tr>\n",
              "      <th>0</th>\n",
              "      <td>29</td>\n",
              "      <td>Kolkata</td>\n",
              "      <td>Male</td>\n",
              "      <td>Postgraduate</td>\n",
              "      <td>Working Professional</td>\n",
              "      <td>5</td>\n",
              "      <td>150000</td>\n",
              "      <td>1</td>\n",
              "      <td>Yes</td>\n",
              "      <td>15</td>\n",
              "      <td>Yes</td>\n",
              "      <td>Hybrid car</td>\n",
              "      <td>5</td>\n",
              "    </tr>\n",
              "    <tr>\n",
              "      <th>1</th>\n",
              "      <td>29</td>\n",
              "      <td>Mumbai</td>\n",
              "      <td>Male</td>\n",
              "      <td>Graduate</td>\n",
              "      <td>Working Professional</td>\n",
              "      <td>4</td>\n",
              "      <td>1000000</td>\n",
              "      <td>1</td>\n",
              "      <td>Yes</td>\n",
              "      <td>8</td>\n",
              "      <td>Yes</td>\n",
              "      <td>Electric car</td>\n",
              "      <td>5</td>\n",
              "    </tr>\n",
              "    <tr>\n",
              "      <th>2</th>\n",
              "      <td>25</td>\n",
              "      <td>Mumbai</td>\n",
              "      <td>Male</td>\n",
              "      <td>Graduate</td>\n",
              "      <td>Working Professional</td>\n",
              "      <td>4</td>\n",
              "      <td>5000</td>\n",
              "      <td>5</td>\n",
              "      <td>Yes</td>\n",
              "      <td>15</td>\n",
              "      <td>Didn't think about it</td>\n",
              "      <td>Hybrid car</td>\n",
              "      <td>5</td>\n",
              "    </tr>\n",
              "    <tr>\n",
              "      <th>3</th>\n",
              "      <td>25</td>\n",
              "      <td>Bangalore</td>\n",
              "      <td>Male</td>\n",
              "      <td>Graduate</td>\n",
              "      <td>Working Professional</td>\n",
              "      <td>4</td>\n",
              "      <td>750000</td>\n",
              "      <td>1</td>\n",
              "      <td>Don't know</td>\n",
              "      <td>8</td>\n",
              "      <td>Didn't think about it</td>\n",
              "      <td>Hybrid car</td>\n",
              "      <td>5</td>\n",
              "    </tr>\n",
              "    <tr>\n",
              "      <th>4</th>\n",
              "      <td>21</td>\n",
              "      <td>Mumbai</td>\n",
              "      <td>Male</td>\n",
              "      <td>Postgraduate</td>\n",
              "      <td>Student</td>\n",
              "      <td>4</td>\n",
              "      <td>5000</td>\n",
              "      <td>12</td>\n",
              "      <td>Don't know</td>\n",
              "      <td>15</td>\n",
              "      <td>Didn't think about it</td>\n",
              "      <td>Hybrid car</td>\n",
              "      <td>5</td>\n",
              "    </tr>\n",
              "  </tbody>\n",
              "</table>\n",
              "</div>\n",
              "      <button class=\"colab-df-convert\" onclick=\"convertToInteractive('df-c0157ff3-d5f9-4524-8ed1-a9fa0578d2cd')\"\n",
              "              title=\"Convert this dataframe to an interactive table.\"\n",
              "              style=\"display:none;\">\n",
              "        \n",
              "  <svg xmlns=\"http://www.w3.org/2000/svg\" height=\"24px\"viewBox=\"0 0 24 24\"\n",
              "       width=\"24px\">\n",
              "    <path d=\"M0 0h24v24H0V0z\" fill=\"none\"/>\n",
              "    <path d=\"M18.56 5.44l.94 2.06.94-2.06 2.06-.94-2.06-.94-.94-2.06-.94 2.06-2.06.94zm-11 1L8.5 8.5l.94-2.06 2.06-.94-2.06-.94L8.5 2.5l-.94 2.06-2.06.94zm10 10l.94 2.06.94-2.06 2.06-.94-2.06-.94-.94-2.06-.94 2.06-2.06.94z\"/><path d=\"M17.41 7.96l-1.37-1.37c-.4-.4-.92-.59-1.43-.59-.52 0-1.04.2-1.43.59L10.3 9.45l-7.72 7.72c-.78.78-.78 2.05 0 2.83L4 21.41c.39.39.9.59 1.41.59.51 0 1.02-.2 1.41-.59l7.78-7.78 2.81-2.81c.8-.78.8-2.07 0-2.86zM5.41 20L4 18.59l7.72-7.72 1.47 1.35L5.41 20z\"/>\n",
              "  </svg>\n",
              "      </button>\n",
              "      \n",
              "  <style>\n",
              "    .colab-df-container {\n",
              "      display:flex;\n",
              "      flex-wrap:wrap;\n",
              "      gap: 12px;\n",
              "    }\n",
              "\n",
              "    .colab-df-convert {\n",
              "      background-color: #E8F0FE;\n",
              "      border: none;\n",
              "      border-radius: 50%;\n",
              "      cursor: pointer;\n",
              "      display: none;\n",
              "      fill: #1967D2;\n",
              "      height: 32px;\n",
              "      padding: 0 0 0 0;\n",
              "      width: 32px;\n",
              "    }\n",
              "\n",
              "    .colab-df-convert:hover {\n",
              "      background-color: #E2EBFA;\n",
              "      box-shadow: 0px 1px 2px rgba(60, 64, 67, 0.3), 0px 1px 3px 1px rgba(60, 64, 67, 0.15);\n",
              "      fill: #174EA6;\n",
              "    }\n",
              "\n",
              "    [theme=dark] .colab-df-convert {\n",
              "      background-color: #3B4455;\n",
              "      fill: #D2E3FC;\n",
              "    }\n",
              "\n",
              "    [theme=dark] .colab-df-convert:hover {\n",
              "      background-color: #434B5C;\n",
              "      box-shadow: 0px 1px 3px 1px rgba(0, 0, 0, 0.15);\n",
              "      filter: drop-shadow(0px 1px 2px rgba(0, 0, 0, 0.3));\n",
              "      fill: #FFFFFF;\n",
              "    }\n",
              "  </style>\n",
              "\n",
              "      <script>\n",
              "        const buttonEl =\n",
              "          document.querySelector('#df-c0157ff3-d5f9-4524-8ed1-a9fa0578d2cd button.colab-df-convert');\n",
              "        buttonEl.style.display =\n",
              "          google.colab.kernel.accessAllowed ? 'block' : 'none';\n",
              "\n",
              "        async function convertToInteractive(key) {\n",
              "          const element = document.querySelector('#df-c0157ff3-d5f9-4524-8ed1-a9fa0578d2cd');\n",
              "          const dataTable =\n",
              "            await google.colab.kernel.invokeFunction('convertToInteractive',\n",
              "                                                     [key], {});\n",
              "          if (!dataTable) return;\n",
              "\n",
              "          const docLinkHtml = 'Like what you see? Visit the ' +\n",
              "            '<a target=\"_blank\" href=https://colab.research.google.com/notebooks/data_table.ipynb>data table notebook</a>'\n",
              "            + ' to learn more about interactive tables.';\n",
              "          element.innerHTML = '';\n",
              "          dataTable['output_type'] = 'display_data';\n",
              "          await google.colab.output.renderOutput(dataTable, element);\n",
              "          const docLink = document.createElement('div');\n",
              "          docLink.innerHTML = docLinkHtml;\n",
              "          element.appendChild(docLink);\n",
              "        }\n",
              "      </script>\n",
              "    </div>\n",
              "  </div>\n",
              "  "
            ]
          },
          "metadata": {},
          "execution_count": 2
        }
      ]
    },
    {
      "cell_type": "code",
      "source": [
        "df.shape"
      ],
      "metadata": {
        "colab": {
          "base_uri": "https://localhost:8080/"
        },
        "id": "9JS5u53SxXf0",
        "outputId": "59732a79-1dbf-41f6-e72b-febfa1da103a"
      },
      "execution_count": null,
      "outputs": [
        {
          "output_type": "execute_result",
          "data": {
            "text/plain": [
              "(299, 13)"
            ]
          },
          "metadata": {},
          "execution_count": 3
        }
      ]
    },
    {
      "cell_type": "code",
      "source": [
        "df.describe()"
      ],
      "metadata": {
        "colab": {
          "base_uri": "https://localhost:8080/",
          "height": 300
        },
        "id": "dn53U6rPxfdu",
        "outputId": "61cae4ce-239e-4a1a-ff14-779531f03d32"
      },
      "execution_count": null,
      "outputs": [
        {
          "output_type": "execute_result",
          "data": {
            "text/plain": [
              "             Age   Family Members   Annual Income  Charging Hours  \\\n",
              "count  299.000000      299.000000      299.000000      299.000000   \n",
              "mean    33.066890        3.816054   603812.709030        3.685619   \n",
              "std     10.390474        0.949890   387815.052751        2.697531   \n",
              "min     17.000000        2.000000     5000.000000        1.000000   \n",
              "25%     23.000000        3.000000   150000.000000        2.000000   \n",
              "50%     31.000000        4.000000   750000.000000        2.000000   \n",
              "75%     42.000000        4.000000  1000000.000000        5.000000   \n",
              "max     57.000000        7.000000  1000000.000000       12.000000   \n",
              "\n",
              "       Charging stations  Next car will be electric car?  \n",
              "count         299.000000                      299.000000  \n",
              "mean           13.026756                        4.986622  \n",
              "std             6.631678                        2.965091  \n",
              "min             8.000000                        1.000000  \n",
              "25%             8.000000                        3.000000  \n",
              "50%             8.000000                        5.000000  \n",
              "75%            15.000000                        5.000000  \n",
              "max            30.000000                       10.000000  "
            ],
            "text/html": [
              "\n",
              "  <div id=\"df-555ffcd3-bf1b-4c6a-8cf1-76a77d900727\">\n",
              "    <div class=\"colab-df-container\">\n",
              "      <div>\n",
              "<style scoped>\n",
              "    .dataframe tbody tr th:only-of-type {\n",
              "        vertical-align: middle;\n",
              "    }\n",
              "\n",
              "    .dataframe tbody tr th {\n",
              "        vertical-align: top;\n",
              "    }\n",
              "\n",
              "    .dataframe thead th {\n",
              "        text-align: right;\n",
              "    }\n",
              "</style>\n",
              "<table border=\"1\" class=\"dataframe\">\n",
              "  <thead>\n",
              "    <tr style=\"text-align: right;\">\n",
              "      <th></th>\n",
              "      <th>Age</th>\n",
              "      <th>Family Members</th>\n",
              "      <th>Annual Income</th>\n",
              "      <th>Charging Hours</th>\n",
              "      <th>Charging stations</th>\n",
              "      <th>Next car will be electric car?</th>\n",
              "    </tr>\n",
              "  </thead>\n",
              "  <tbody>\n",
              "    <tr>\n",
              "      <th>count</th>\n",
              "      <td>299.000000</td>\n",
              "      <td>299.000000</td>\n",
              "      <td>299.000000</td>\n",
              "      <td>299.000000</td>\n",
              "      <td>299.000000</td>\n",
              "      <td>299.000000</td>\n",
              "    </tr>\n",
              "    <tr>\n",
              "      <th>mean</th>\n",
              "      <td>33.066890</td>\n",
              "      <td>3.816054</td>\n",
              "      <td>603812.709030</td>\n",
              "      <td>3.685619</td>\n",
              "      <td>13.026756</td>\n",
              "      <td>4.986622</td>\n",
              "    </tr>\n",
              "    <tr>\n",
              "      <th>std</th>\n",
              "      <td>10.390474</td>\n",
              "      <td>0.949890</td>\n",
              "      <td>387815.052751</td>\n",
              "      <td>2.697531</td>\n",
              "      <td>6.631678</td>\n",
              "      <td>2.965091</td>\n",
              "    </tr>\n",
              "    <tr>\n",
              "      <th>min</th>\n",
              "      <td>17.000000</td>\n",
              "      <td>2.000000</td>\n",
              "      <td>5000.000000</td>\n",
              "      <td>1.000000</td>\n",
              "      <td>8.000000</td>\n",
              "      <td>1.000000</td>\n",
              "    </tr>\n",
              "    <tr>\n",
              "      <th>25%</th>\n",
              "      <td>23.000000</td>\n",
              "      <td>3.000000</td>\n",
              "      <td>150000.000000</td>\n",
              "      <td>2.000000</td>\n",
              "      <td>8.000000</td>\n",
              "      <td>3.000000</td>\n",
              "    </tr>\n",
              "    <tr>\n",
              "      <th>50%</th>\n",
              "      <td>31.000000</td>\n",
              "      <td>4.000000</td>\n",
              "      <td>750000.000000</td>\n",
              "      <td>2.000000</td>\n",
              "      <td>8.000000</td>\n",
              "      <td>5.000000</td>\n",
              "    </tr>\n",
              "    <tr>\n",
              "      <th>75%</th>\n",
              "      <td>42.000000</td>\n",
              "      <td>4.000000</td>\n",
              "      <td>1000000.000000</td>\n",
              "      <td>5.000000</td>\n",
              "      <td>15.000000</td>\n",
              "      <td>5.000000</td>\n",
              "    </tr>\n",
              "    <tr>\n",
              "      <th>max</th>\n",
              "      <td>57.000000</td>\n",
              "      <td>7.000000</td>\n",
              "      <td>1000000.000000</td>\n",
              "      <td>12.000000</td>\n",
              "      <td>30.000000</td>\n",
              "      <td>10.000000</td>\n",
              "    </tr>\n",
              "  </tbody>\n",
              "</table>\n",
              "</div>\n",
              "      <button class=\"colab-df-convert\" onclick=\"convertToInteractive('df-555ffcd3-bf1b-4c6a-8cf1-76a77d900727')\"\n",
              "              title=\"Convert this dataframe to an interactive table.\"\n",
              "              style=\"display:none;\">\n",
              "        \n",
              "  <svg xmlns=\"http://www.w3.org/2000/svg\" height=\"24px\"viewBox=\"0 0 24 24\"\n",
              "       width=\"24px\">\n",
              "    <path d=\"M0 0h24v24H0V0z\" fill=\"none\"/>\n",
              "    <path d=\"M18.56 5.44l.94 2.06.94-2.06 2.06-.94-2.06-.94-.94-2.06-.94 2.06-2.06.94zm-11 1L8.5 8.5l.94-2.06 2.06-.94-2.06-.94L8.5 2.5l-.94 2.06-2.06.94zm10 10l.94 2.06.94-2.06 2.06-.94-2.06-.94-.94-2.06-.94 2.06-2.06.94z\"/><path d=\"M17.41 7.96l-1.37-1.37c-.4-.4-.92-.59-1.43-.59-.52 0-1.04.2-1.43.59L10.3 9.45l-7.72 7.72c-.78.78-.78 2.05 0 2.83L4 21.41c.39.39.9.59 1.41.59.51 0 1.02-.2 1.41-.59l7.78-7.78 2.81-2.81c.8-.78.8-2.07 0-2.86zM5.41 20L4 18.59l7.72-7.72 1.47 1.35L5.41 20z\"/>\n",
              "  </svg>\n",
              "      </button>\n",
              "      \n",
              "  <style>\n",
              "    .colab-df-container {\n",
              "      display:flex;\n",
              "      flex-wrap:wrap;\n",
              "      gap: 12px;\n",
              "    }\n",
              "\n",
              "    .colab-df-convert {\n",
              "      background-color: #E8F0FE;\n",
              "      border: none;\n",
              "      border-radius: 50%;\n",
              "      cursor: pointer;\n",
              "      display: none;\n",
              "      fill: #1967D2;\n",
              "      height: 32px;\n",
              "      padding: 0 0 0 0;\n",
              "      width: 32px;\n",
              "    }\n",
              "\n",
              "    .colab-df-convert:hover {\n",
              "      background-color: #E2EBFA;\n",
              "      box-shadow: 0px 1px 2px rgba(60, 64, 67, 0.3), 0px 1px 3px 1px rgba(60, 64, 67, 0.15);\n",
              "      fill: #174EA6;\n",
              "    }\n",
              "\n",
              "    [theme=dark] .colab-df-convert {\n",
              "      background-color: #3B4455;\n",
              "      fill: #D2E3FC;\n",
              "    }\n",
              "\n",
              "    [theme=dark] .colab-df-convert:hover {\n",
              "      background-color: #434B5C;\n",
              "      box-shadow: 0px 1px 3px 1px rgba(0, 0, 0, 0.15);\n",
              "      filter: drop-shadow(0px 1px 2px rgba(0, 0, 0, 0.3));\n",
              "      fill: #FFFFFF;\n",
              "    }\n",
              "  </style>\n",
              "\n",
              "      <script>\n",
              "        const buttonEl =\n",
              "          document.querySelector('#df-555ffcd3-bf1b-4c6a-8cf1-76a77d900727 button.colab-df-convert');\n",
              "        buttonEl.style.display =\n",
              "          google.colab.kernel.accessAllowed ? 'block' : 'none';\n",
              "\n",
              "        async function convertToInteractive(key) {\n",
              "          const element = document.querySelector('#df-555ffcd3-bf1b-4c6a-8cf1-76a77d900727');\n",
              "          const dataTable =\n",
              "            await google.colab.kernel.invokeFunction('convertToInteractive',\n",
              "                                                     [key], {});\n",
              "          if (!dataTable) return;\n",
              "\n",
              "          const docLinkHtml = 'Like what you see? Visit the ' +\n",
              "            '<a target=\"_blank\" href=https://colab.research.google.com/notebooks/data_table.ipynb>data table notebook</a>'\n",
              "            + ' to learn more about interactive tables.';\n",
              "          element.innerHTML = '';\n",
              "          dataTable['output_type'] = 'display_data';\n",
              "          await google.colab.output.renderOutput(dataTable, element);\n",
              "          const docLink = document.createElement('div');\n",
              "          docLink.innerHTML = docLinkHtml;\n",
              "          element.appendChild(docLink);\n",
              "        }\n",
              "      </script>\n",
              "    </div>\n",
              "  </div>\n",
              "  "
            ]
          },
          "metadata": {},
          "execution_count": 5
        }
      ]
    },
    {
      "cell_type": "code",
      "source": [
        "df.info()"
      ],
      "metadata": {
        "colab": {
          "base_uri": "https://localhost:8080/"
        },
        "id": "-cK2FycvxjcX",
        "outputId": "b8fc87e8-3fe8-4305-c4b6-5c993acc5731"
      },
      "execution_count": null,
      "outputs": [
        {
          "output_type": "stream",
          "name": "stdout",
          "text": [
            "<class 'pandas.core.frame.DataFrame'>\n",
            "RangeIndex: 299 entries, 0 to 298\n",
            "Data columns (total 13 columns):\n",
            " #   Column                            Non-Null Count  Dtype \n",
            "---  ------                            --------------  ----- \n",
            " 0   Age                               299 non-null    int64 \n",
            " 1   City                              299 non-null    object\n",
            " 2   Gender                            299 non-null    object\n",
            " 3   Education Level                   299 non-null    object\n",
            " 4   Occupation                        299 non-null    object\n",
            " 5   Family Members                    299 non-null    int64 \n",
            " 6   Annual Income                     299 non-null    int64 \n",
            " 7   Charging Hours                    299 non-null    int64 \n",
            " 8   Electric Cars are economical      299 non-null    object\n",
            " 9   Charging stations                 299 non-null    int64 \n",
            " 10  Convert your car to all electric  299 non-null    object\n",
            " 11  Hybrid or Both                    299 non-null    object\n",
            " 12  Next car will be electric car?    299 non-null    int64 \n",
            "dtypes: int64(6), object(7)\n",
            "memory usage: 30.5+ KB\n"
          ]
        }
      ]
    },
    {
      "cell_type": "code",
      "source": [
        "df.isnull().sum()"
      ],
      "metadata": {
        "colab": {
          "base_uri": "https://localhost:8080/"
        },
        "id": "6oxKTZXXxnOt",
        "outputId": "d9b2b229-cf7f-4b8c-bdf5-7f32ad627e77"
      },
      "execution_count": null,
      "outputs": [
        {
          "output_type": "execute_result",
          "data": {
            "text/plain": [
              "Age                                 0\n",
              "City                                0\n",
              "Gender                              0\n",
              "Education Level                     0\n",
              "Occupation                          0\n",
              "Family Members                      0\n",
              "Annual Income                       0\n",
              "Charging Hours                      0\n",
              "Electric Cars are economical        0\n",
              "Charging stations                   0\n",
              "Convert your car to all electric    0\n",
              "Hybrid or Both                      0\n",
              "Next car will be electric car?      0\n",
              "dtype: int64"
            ]
          },
          "metadata": {},
          "execution_count": 7
        }
      ]
    },
    {
      "cell_type": "code",
      "source": [
        "df.hist(figsize=(18, 16))"
      ],
      "metadata": {
        "colab": {
          "base_uri": "https://localhost:8080/",
          "height": 1000
        },
        "id": "UrqxTvnQxs_k",
        "outputId": "e6f5c3eb-d665-4dc5-ecf5-23b52fa267fd"
      },
      "execution_count": null,
      "outputs": [
        {
          "output_type": "execute_result",
          "data": {
            "text/plain": [
              "array([[<Axes: title={'center': 'Age '}>,\n",
              "        <Axes: title={'center': 'Family Members'}>],\n",
              "       [<Axes: title={'center': 'Annual Income'}>,\n",
              "        <Axes: title={'center': 'Charging Hours'}>],\n",
              "       [<Axes: title={'center': 'Charging stations'}>,\n",
              "        <Axes: title={'center': 'Next car will be electric car?'}>]],\n",
              "      dtype=object)"
            ]
          },
          "metadata": {},
          "execution_count": 9
        },
        {
          "output_type": "display_data",
          "data": {
            "text/plain": [
              "<Figure size 1800x1600 with 6 Axes>"
            ],
            "image/png": "[encoded data removed]"
          },
          "metadata": {}
        }
      ]
    },
    {
      "cell_type": "code",
      "source": [
        "df['City'].value_counts().plot.bar()\n"
      ],
      "metadata": {
        "colab": {
          "base_uri": "https://localhost:8080/",
          "height": 582
        },
        "id": "9v9WMFaVx6nu",
        "outputId": "d644103a-1a54-4049-9d85-4ab1567edac0"
      },
      "execution_count": null,
      "outputs": [
        {
          "output_type": "execute_result",
          "data": {
            "text/plain": [
              "<Axes: >"
            ]
          },
          "metadata": {},
          "execution_count": 11
        },
        {
          "output_type": "display_data",
          "data": {
            "text/plain": [
              "<Figure size 640x480 with 1 Axes>"
            ],
            "image/png": "[encoded data removed]"
          },
          "metadata": {}
        }
      ]
    },
    {
      "cell_type": "code",
      "source": [
        "df['Education Level'].value_counts().plot.bar()"
      ],
      "metadata": {
        "colab": {
          "base_uri": "https://localhost:8080/",
          "height": 614
        },
        "id": "80KVjQT1ykV7",
        "outputId": "ec001551-ab0c-44d6-c1c9-e21e5b235d78"
      },
      "execution_count": null,
      "outputs": [
        {
          "output_type": "execute_result",
          "data": {
            "text/plain": [
              "<Axes: >"
            ]
          },
          "metadata": {},
          "execution_count": 14
        },
        {
          "output_type": "display_data",
          "data": {
            "text/plain": [
              "<Figure size 640x480 with 1 Axes>"
            ],
            "image/png": "[encoded data removed]"
          },
          "metadata": {}
        }
      ]
    },
    {
      "cell_type": "code",
      "source": [
        "df['Occupation'].value_counts().plot.bar()\n"
      ],
      "metadata": {
        "colab": {
          "base_uri": "https://localhost:8080/",
          "height": 578
        },
        "id": "eP9ZHuEzyTyD",
        "outputId": "23855bee-ed50-4c48-8c8d-1307dfd69fb0"
      },
      "execution_count": null,
      "outputs": [
        {
          "output_type": "execute_result",
          "data": {
            "text/plain": [
              "<Axes: >"
            ]
          },
          "metadata": {},
          "execution_count": 13
        },
        {
          "output_type": "display_data",
          "data": {
            "text/plain": [
              "<Figure size 640x480 with 1 Axes>"
            ],
            "image/png": "[encoded data removed]"
          },
          "metadata": {}
        }
      ]
    },
    {
      "cell_type": "code",
      "source": [
        "df['Hybrid or Both'].value_counts().plot.bar()"
      ],
      "metadata": {
        "colab": {
          "base_uri": "https://localhost:8080/",
          "height": 511
        },
        "id": "qUaak5SQycgW",
        "outputId": "d15b4c8e-edba-4f8e-92de-d1d908ed1cac"
      },
      "execution_count": null,
      "outputs": [
        {
          "output_type": "execute_result",
          "data": {
            "text/plain": [
              "<Axes: >"
            ]
          },
          "metadata": {},
          "execution_count": 16
        },
        {
          "output_type": "display_data",
          "data": {
            "text/plain": [
              "<Figure size 640x480 with 1 Axes>"
            ],
            "image/png": "[encoded data removed]"
          },
          "metadata": {}
        }
      ]
    },
    {
      "cell_type": "code",
      "source": [
        "sns.distplot(df['Annual Income'])"
      ],
      "metadata": {
        "colab": {
          "base_uri": "https://localhost:8080/",
          "height": 673
        },
        "id": "Oe4ZBR6syou8",
        "outputId": "21f75c31-9606-4411-9255-73cbfeeb394b"
      },
      "execution_count": null,
      "outputs": [
        {
          "output_type": "stream",
          "name": "stderr",
          "text": [
            "<ipython-input-18-522a83451b3b>:1: UserWarning: \n",
            "\n",
            "`distplot` is a deprecated function and will be removed in seaborn v0.14.0.\n",
            "\n",
            "Please adapt your code to use either `displot` (a figure-level function with\n",
            "similar flexibility) or `histplot` (an axes-level function for histograms).\n",
            "\n",
            "For a guide to updating your code to use the new functions, please see\n",
            "https://gist.github.com/mwaskom/de44147ed2974457ad6372750bbe5751\n",
            "\n",
            "  sns.distplot(df['Annual Income'])\n"
          ]
        },
        {
          "output_type": "execute_result",
          "data": {
            "text/plain": [
              "<Axes: xlabel='Annual Income', ylabel='Density'>"
            ]
          },
          "metadata": {},
          "execution_count": 18
        },
        {
          "output_type": "display_data",
          "data": {
            "text/plain": [
              "<Figure size 640x480 with 1 Axes>"
            ],
            "image/png": "[encoded data removed]"
          },
          "metadata": {}
        }
      ]
    },
    {
      "cell_type": "code",
      "source": [
        "df[\"Annual Income\"].describe()"
      ],
      "metadata": {
        "colab": {
          "base_uri": "https://localhost:8080/"
        },
        "id": "FgINvtFgytre",
        "outputId": "ad4f40ab-15e6-43e4-c8a1-db1591d4caa1"
      },
      "execution_count": null,
      "outputs": [
        {
          "output_type": "execute_result",
          "data": {
            "text/plain": [
              "count        299.000000\n",
              "mean      603812.709030\n",
              "std       387815.052751\n",
              "min         5000.000000\n",
              "25%       150000.000000\n",
              "50%       750000.000000\n",
              "75%      1000000.000000\n",
              "max      1000000.000000\n",
              "Name: Annual Income, dtype: float64"
            ]
          },
          "metadata": {},
          "execution_count": 20
        }
      ]
    },
    {
      "cell_type": "code",
      "source": [
        "df[\"Annual Income\"].describe()  "
      ],
      "metadata": {
        "colab": {
          "base_uri": "https://localhost:8080/"
        },
        "id": "-iR6FhIxyyoj",
        "outputId": "af89bb66-4a5e-4047-caeb-59da96e53f67"
      },
      "execution_count": null,
      "outputs": [
        {
          "output_type": "execute_result",
          "data": {
            "text/plain": [
              "count        299.000000\n",
              "mean      603812.709030\n",
              "std       387815.052751\n",
              "min         5000.000000\n",
              "25%       150000.000000\n",
              "50%       750000.000000\n",
              "75%      1000000.000000\n",
              "max      1000000.000000\n",
              "Name: Annual Income, dtype: float64"
            ]
          },
          "metadata": {},
          "execution_count": 22
        }
      ]
    },
    {
      "cell_type": "code",
      "source": [
        "plt.bar(df['Age '], df['Annual Income'])\n",
        "plt.xlabel('Age')\n",
        "plt.ylabel('Annual Income')\n"
      ],
      "metadata": {
        "colab": {
          "base_uri": "https://localhost:8080/",
          "height": 482
        },
        "id": "g-n5hK48y6tt",
        "outputId": "9b835eec-3a12-4c90-8d57-c44da065e3aa"
      },
      "execution_count": null,
      "outputs": [
        {
          "output_type": "execute_result",
          "data": {
            "text/plain": [
              "Text(0, 0.5, 'Annual Income')"
            ]
          },
          "metadata": {},
          "execution_count": 23
        },
        {
          "output_type": "display_data",
          "data": {
            "text/plain": [
              "<Figure size 640x480 with 1 Axes>"
            ],
            "image/png": "[encoded data removed]"
          },
          "metadata": {}
        }
      ]
    },
    {
      "cell_type": "code",
      "source": [
        "    \n",
        "df['Hybrid or Both'].unique()"
      ],
      "metadata": {
        "colab": {
          "base_uri": "https://localhost:8080/"
        },
        "id": "_dVqf_UhzBFp",
        "outputId": "52ec895e-60ad-47f5-c11f-68cf19e9ec00"
      },
      "execution_count": null,
      "outputs": [
        {
          "output_type": "execute_result",
          "data": {
            "text/plain": [
              "array(['Hybrid car', 'Electric car'], dtype=object)"
            ]
          },
          "metadata": {},
          "execution_count": 28
        }
      ]
    },
    {
      "cell_type": "code",
      "source": [
        "df.duplicated().sum()"
      ],
      "metadata": {
        "colab": {
          "base_uri": "https://localhost:8080/"
        },
        "id": "ZJcgx0a3zEti",
        "outputId": "427b9b5b-d3ff-4970-f77a-eb4e5f70cdf5"
      },
      "execution_count": null,
      "outputs": [
        {
          "output_type": "execute_result",
          "data": {
            "text/plain": [
              "0"
            ]
          },
          "metadata": {},
          "execution_count": 29
        }
      ]
    },
    {
      "cell_type": "markdown",
      "source": [
        "PRE_PROCESSING"
      ],
      "metadata": {
        "id": "15o0g2yMz2ML"
      }
    },
    {
      "cell_type": "code",
      "source": [
        "from sklearn import preprocessing\n",
        "     "
      ],
      "metadata": {
        "id": "TPMM4kUYz0D8"
      },
      "execution_count": null,
      "outputs": []
    },
    {
      "cell_type": "code",
      "source": [
        "df['Occupation']=preprocessing.LabelEncoder().fit_transform(df['Occupation'].values.reshape(-1,1))\n"
      ],
      "metadata": {
        "colab": {
          "base_uri": "https://localhost:8080/"
        },
        "id": "SAYlZVILz5RN",
        "outputId": "6f0698bf-b413-47e0-ac52-8aa5357e5871"
      },
      "execution_count": null,
      "outputs": [
        {
          "output_type": "stream",
          "name": "stderr",
          "text": [
            "/usr/local/lib/python3.10/dist-packages/sklearn/preprocessing/_label.py:116: DataConversionWarning: A column-vector y was passed when a 1d array was expected. Please change the shape of y to (n_samples, ), for example using ravel().\n",
            "  y = column_or_1d(y, warn=True)\n"
          ]
        }
      ]
    },
    {
      "cell_type": "code",
      "source": [
        "df"
      ],
      "metadata": {
        "colab": {
          "base_uri": "https://localhost:8080/",
          "height": 537
        },
        "id": "rlBx4s_Nz_P3",
        "outputId": "2f3fe16a-654a-4abd-d009-56a66682d534"
      },
      "execution_count": null,
      "outputs": [
        {
          "output_type": "execute_result",
          "data": {
            "text/plain": [
              "     Age          City Gender Education Level  Occupation  Family Members  \\\n",
              "0      29      Kolkata   Male    Postgraduate           2               5   \n",
              "1      29       Mumbai   Male        Graduate           2               4   \n",
              "2      25       Mumbai   Male        Graduate           2               4   \n",
              "3      25    Bangalore   Male        Graduate           2               4   \n",
              "4      21       Mumbai   Male    Postgraduate           1               4   \n",
              "..    ...          ...    ...             ...         ...             ...   \n",
              "294    19       Mumbai   Male        Graduate           2               4   \n",
              "295    21    Bangalore   Male        Graduate           2               4   \n",
              "296    23  Panaji, goa   Male        Graduate           2               3   \n",
              "297    25       Mumbai   Male        Graduate           2               2   \n",
              "298    29    Bangalore   Male        Graduate           2               4   \n",
              "\n",
              "     Annual Income  Charging Hours Electric Cars are economical  \\\n",
              "0           150000               1                          Yes   \n",
              "1          1000000               1                          Yes   \n",
              "2             5000               5                          Yes   \n",
              "3           750000               1                   Don't know   \n",
              "4             5000              12                   Don't know   \n",
              "..             ...             ...                          ...   \n",
              "294         750000               1                          Yes   \n",
              "295         750000               1                          Yes   \n",
              "296         750000               1                          Yes   \n",
              "297         750000               1                          Yes   \n",
              "298        1000000               1                          Yes   \n",
              "\n",
              "     Charging stations Convert your car to all electric Hybrid or Both  \\\n",
              "0                   15                              Yes     Hybrid car   \n",
              "1                    8                              Yes   Electric car   \n",
              "2                   15            Didn't think about it     Hybrid car   \n",
              "3                    8            Didn't think about it     Hybrid car   \n",
              "4                   15            Didn't think about it     Hybrid car   \n",
              "..                 ...                              ...            ...   \n",
              "294                  8                              Yes     Hybrid car   \n",
              "295                 30                              Yes     Hybrid car   \n",
              "296                  8            Didn't think about it   Electric car   \n",
              "297                 15            Didn't think about it     Hybrid car   \n",
              "298                  8                               No     Hybrid car   \n",
              "\n",
              "     Next car will be electric car?  \n",
              "0                                 5  \n",
              "1                                 5  \n",
              "2                                 5  \n",
              "3                                 5  \n",
              "4                                 5  \n",
              "..                              ...  \n",
              "294                               5  \n",
              "295                               5  \n",
              "296                               5  \n",
              "297                               3  \n",
              "298                               3  \n",
              "\n",
              "[299 rows x 13 columns]"
            ],
            "text/html": [
              "\n",
              "  <div id=\"df-a38eb5f1-5679-49d4-822f-31b65823cd74\">\n",
              "    <div class=\"colab-df-container\">\n",
              "      <div>\n",
              "<style scoped>\n",
              "    .dataframe tbody tr th:only-of-type {\n",
              "        vertical-align: middle;\n",
              "    }\n",
              "\n",
              "    .dataframe tbody tr th {\n",
              "        vertical-align: top;\n",
              "    }\n",
              "\n",
              "    .dataframe thead th {\n",
              "        text-align: right;\n",
              "    }\n",
              "</style>\n",
              "<table border=\"1\" class=\"dataframe\">\n",
              "  <thead>\n",
              "    <tr style=\"text-align: right;\">\n",
              "      <th></th>\n",
              "      <th>Age</th>\n",
              "      <th>City</th>\n",
              "      <th>Gender</th>\n",
              "      <th>Education Level</th>\n",
              "      <th>Occupation</th>\n",
              "      <th>Family Members</th>\n",
              "      <th>Annual Income</th>\n",
              "      <th>Charging Hours</th>\n",
              "      <th>Electric Cars are economical</th>\n",
              "      <th>Charging stations</th>\n",
              "      <th>Convert your car to all electric</th>\n",
              "      <th>Hybrid or Both</th>\n",
              "      <th>Next car will be electric car?</th>\n",
              "    </tr>\n",
              "  </thead>\n",
              "  <tbody>\n",
              "    <tr>\n",
              "      <th>0</th>\n",
              "      <td>29</td>\n",
              "      <td>Kolkata</td>\n",
              "      <td>Male</td>\n",
              "      <td>Postgraduate</td>\n",
              "      <td>2</td>\n",
              "      <td>5</td>\n",
              "      <td>150000</td>\n",
              "      <td>1</td>\n",
              "      <td>Yes</td>\n",
              "      <td>15</td>\n",
              "      <td>Yes</td>\n",
              "      <td>Hybrid car</td>\n",
              "      <td>5</td>\n",
              "    </tr>\n",
              "    <tr>\n",
              "      <th>1</th>\n",
              "      <td>29</td>\n",
              "      <td>Mumbai</td>\n",
              "      <td>Male</td>\n",
              "      <td>Graduate</td>\n",
              "      <td>2</td>\n",
              "      <td>4</td>\n",
              "      <td>1000000</td>\n",
              "      <td>1</td>\n",
              "      <td>Yes</td>\n",
              "      <td>8</td>\n",
              "      <td>Yes</td>\n",
              "      <td>Electric car</td>\n",
              "      <td>5</td>\n",
              "    </tr>\n",
              "    <tr>\n",
              "      <th>2</th>\n",
              "      <td>25</td>\n",
              "      <td>Mumbai</td>\n",
              "      <td>Male</td>\n",
              "      <td>Graduate</td>\n",
              "      <td>2</td>\n",
              "      <td>4</td>\n",
              "      <td>5000</td>\n",
              "      <td>5</td>\n",
              "      <td>Yes</td>\n",
              "      <td>15</td>\n",
              "      <td>Didn't think about it</td>\n",
              "      <td>Hybrid car</td>\n",
              "      <td>5</td>\n",
              "    </tr>\n",
              "    <tr>\n",
              "      <th>3</th>\n",
              "      <td>25</td>\n",
              "      <td>Bangalore</td>\n",
              "      <td>Male</td>\n",
              "      <td>Graduate</td>\n",
              "      <td>2</td>\n",
              "      <td>4</td>\n",
              "      <td>750000</td>\n",
              "      <td>1</td>\n",
              "      <td>Don't know</td>\n",
              "      <td>8</td>\n",
              "      <td>Didn't think about it</td>\n",
              "      <td>Hybrid car</td>\n",
              "      <td>5</td>\n",
              "    </tr>\n",
              "    <tr>\n",
              "      <th>4</th>\n",
              "      <td>21</td>\n",
              "      <td>Mumbai</td>\n",
              "      <td>Male</td>\n",
              "      <td>Postgraduate</td>\n",
              "      <td>1</td>\n",
              "      <td>4</td>\n",
              "      <td>5000</td>\n",
              "      <td>12</td>\n",
              "      <td>Don't know</td>\n",
              "      <td>15</td>\n",
              "      <td>Didn't think about it</td>\n",
              "      <td>Hybrid car</td>\n",
              "      <td>5</td>\n",
              "    </tr>\n",
              "    <tr>\n",
              "      <th>...</th>\n",
              "      <td>...</td>\n",
              "      <td>...</td>\n",
              "      <td>...</td>\n",
              "      <td>...</td>\n",
              "      <td>...</td>\n",
              "      <td>...</td>\n",
              "      <td>...</td>\n",
              "      <td>...</td>\n",
              "      <td>...</td>\n",
              "      <td>...</td>\n",
              "      <td>...</td>\n",
              "      <td>...</td>\n",
              "      <td>...</td>\n",
              "    </tr>\n",
              "    <tr>\n",
              "      <th>294</th>\n",
              "      <td>19</td>\n",
              "      <td>Mumbai</td>\n",
              "      <td>Male</td>\n",
              "      <td>Graduate</td>\n",
              "      <td>2</td>\n",
              "      <td>4</td>\n",
              "      <td>750000</td>\n",
              "      <td>1</td>\n",
              "      <td>Yes</td>\n",
              "      <td>8</td>\n",
              "      <td>Yes</td>\n",
              "      <td>Hybrid car</td>\n",
              "      <td>5</td>\n",
              "    </tr>\n",
              "    <tr>\n",
              "      <th>295</th>\n",
              "      <td>21</td>\n",
              "      <td>Bangalore</td>\n",
              "      <td>Male</td>\n",
              "      <td>Graduate</td>\n",
              "      <td>2</td>\n",
              "      <td>4</td>\n",
              "      <td>750000</td>\n",
              "      <td>1</td>\n",
              "      <td>Yes</td>\n",
              "      <td>30</td>\n",
              "      <td>Yes</td>\n",
              "      <td>Hybrid car</td>\n",
              "      <td>5</td>\n",
              "    </tr>\n",
              "    <tr>\n",
              "      <th>296</th>\n",
              "      <td>23</td>\n",
              "      <td>Panaji, goa</td>\n",
              "      <td>Male</td>\n",
              "      <td>Graduate</td>\n",
              "      <td>2</td>\n",
              "      <td>3</td>\n",
              "      <td>750000</td>\n",
              "      <td>1</td>\n",
              "      <td>Yes</td>\n",
              "      <td>8</td>\n",
              "      <td>Didn't think about it</td>\n",
              "      <td>Electric car</td>\n",
              "      <td>5</td>\n",
              "    </tr>\n",
              "    <tr>\n",
              "      <th>297</th>\n",
              "      <td>25</td>\n",
              "      <td>Mumbai</td>\n",
              "      <td>Male</td>\n",
              "      <td>Graduate</td>\n",
              "      <td>2</td>\n",
              "      <td>2</td>\n",
              "      <td>750000</td>\n",
              "      <td>1</td>\n",
              "      <td>Yes</td>\n",
              "      <td>15</td>\n",
              "      <td>Didn't think about it</td>\n",
              "      <td>Hybrid car</td>\n",
              "      <td>3</td>\n",
              "    </tr>\n",
              "    <tr>\n",
              "      <th>298</th>\n",
              "      <td>29</td>\n",
              "      <td>Bangalore</td>\n",
              "      <td>Male</td>\n",
              "      <td>Graduate</td>\n",
              "      <td>2</td>\n",
              "      <td>4</td>\n",
              "      <td>1000000</td>\n",
              "      <td>1</td>\n",
              "      <td>Yes</td>\n",
              "      <td>8</td>\n",
              "      <td>No</td>\n",
              "      <td>Hybrid car</td>\n",
              "      <td>3</td>\n",
              "    </tr>\n",
              "  </tbody>\n",
              "</table>\n",
              "<p>299 rows × 13 columns</p>\n",
              "</div>\n",
              "      <button class=\"colab-df-convert\" onclick=\"convertToInteractive('df-a38eb5f1-5679-49d4-822f-31b65823cd74')\"\n",
              "              title=\"Convert this dataframe to an interactive table.\"\n",
              "              style=\"display:none;\">\n",
              "        \n",
              "  <svg xmlns=\"http://www.w3.org/2000/svg\" height=\"24px\"viewBox=\"0 0 24 24\"\n",
              "       width=\"24px\">\n",
              "    <path d=\"M0 0h24v24H0V0z\" fill=\"none\"/>\n",
              "    <path d=\"M18.56 5.44l.94 2.06.94-2.06 2.06-.94-2.06-.94-.94-2.06-.94 2.06-2.06.94zm-11 1L8.5 8.5l.94-2.06 2.06-.94-2.06-.94L8.5 2.5l-.94 2.06-2.06.94zm10 10l.94 2.06.94-2.06 2.06-.94-2.06-.94-.94-2.06-.94 2.06-2.06.94z\"/><path d=\"M17.41 7.96l-1.37-1.37c-.4-.4-.92-.59-1.43-.59-.52 0-1.04.2-1.43.59L10.3 9.45l-7.72 7.72c-.78.78-.78 2.05 0 2.83L4 21.41c.39.39.9.59 1.41.59.51 0 1.02-.2 1.41-.59l7.78-7.78 2.81-2.81c.8-.78.8-2.07 0-2.86zM5.41 20L4 18.59l7.72-7.72 1.47 1.35L5.41 20z\"/>\n",
              "  </svg>\n",
              "      </button>\n",
              "      \n",
              "  <style>\n",
              "    .colab-df-container {\n",
              "      display:flex;\n",
              "      flex-wrap:wrap;\n",
              "      gap: 12px;\n",
              "    }\n",
              "\n",
              "    .colab-df-convert {\n",
              "      background-color: #E8F0FE;\n",
              "      border: none;\n",
              "      border-radius: 50%;\n",
              "      cursor: pointer;\n",
              "      display: none;\n",
              "      fill: #1967D2;\n",
              "      height: 32px;\n",
              "      padding: 0 0 0 0;\n",
              "      width: 32px;\n",
              "    }\n",
              "\n",
              "    .colab-df-convert:hover {\n",
              "      background-color: #E2EBFA;\n",
              "      box-shadow: 0px 1px 2px rgba(60, 64, 67, 0.3), 0px 1px 3px 1px rgba(60, 64, 67, 0.15);\n",
              "      fill: #174EA6;\n",
              "    }\n",
              "\n",
              "    [theme=dark] .colab-df-convert {\n",
              "      background-color: #3B4455;\n",
              "      fill: #D2E3FC;\n",
              "    }\n",
              "\n",
              "    [theme=dark] .colab-df-convert:hover {\n",
              "      background-color: #434B5C;\n",
              "      box-shadow: 0px 1px 3px 1px rgba(0, 0, 0, 0.15);\n",
              "      filter: drop-shadow(0px 1px 2px rgba(0, 0, 0, 0.3));\n",
              "      fill: #FFFFFF;\n",
              "    }\n",
              "  </style>\n",
              "\n",
              "      <script>\n",
              "        const buttonEl =\n",
              "          document.querySelector('#df-a38eb5f1-5679-49d4-822f-31b65823cd74 button.colab-df-convert');\n",
              "        buttonEl.style.display =\n",
              "          google.colab.kernel.accessAllowed ? 'block' : 'none';\n",
              "\n",
              "        async function convertToInteractive(key) {\n",
              "          const element = document.querySelector('#df-a38eb5f1-5679-49d4-822f-31b65823cd74');\n",
              "          const dataTable =\n",
              "            await google.colab.kernel.invokeFunction('convertToInteractive',\n",
              "                                                     [key], {});\n",
              "          if (!dataTable) return;\n",
              "\n",
              "          const docLinkHtml = 'Like what you see? Visit the ' +\n",
              "            '<a target=\"_blank\" href=https://colab.research.google.com/notebooks/data_table.ipynb>data table notebook</a>'\n",
              "            + ' to learn more about interactive tables.';\n",
              "          element.innerHTML = '';\n",
              "          dataTable['output_type'] = 'display_data';\n",
              "          await google.colab.output.renderOutput(dataTable, element);\n",
              "          const docLink = document.createElement('div');\n",
              "          docLink.innerHTML = docLinkHtml;\n",
              "          element.appendChild(docLink);\n",
              "        }\n",
              "      </script>\n",
              "    </div>\n",
              "  </div>\n",
              "  "
            ]
          },
          "metadata": {},
          "execution_count": 32
        }
      ]
    },
    {
      "cell_type": "code",
      "source": [
        "df['Occupation'].unique()"
      ],
      "metadata": {
        "colab": {
          "base_uri": "https://localhost:8080/"
        },
        "id": "B18mHuPt0MQU",
        "outputId": "fedefb74-b96f-4c39-a45c-963e838d1155"
      },
      "execution_count": null,
      "outputs": [
        {
          "output_type": "execute_result",
          "data": {
            "text/plain": [
              "array([2, 1, 0])"
            ]
          },
          "metadata": {},
          "execution_count": 36
        }
      ]
    },
    {
      "cell_type": "code",
      "source": [
        "df['Education Level']=preprocessing.LabelEncoder().fit_transform(df['Education Level'].values.reshape(-1,1))\n"
      ],
      "metadata": {
        "colab": {
          "base_uri": "https://localhost:8080/"
        },
        "id": "DEYyx5_iz8Rv",
        "outputId": "156bf76d-bade-480b-8626-8c3b67b42266"
      },
      "execution_count": null,
      "outputs": [
        {
          "output_type": "stream",
          "name": "stderr",
          "text": [
            "/usr/local/lib/python3.10/dist-packages/sklearn/preprocessing/_label.py:116: DataConversionWarning: A column-vector y was passed when a 1d array was expected. Please change the shape of y to (n_samples, ), for example using ravel().\n",
            "  y = column_or_1d(y, warn=True)\n"
          ]
        }
      ]
    },
    {
      "cell_type": "code",
      "source": [
        "df"
      ],
      "metadata": {
        "colab": {
          "base_uri": "https://localhost:8080/",
          "height": 537
        },
        "id": "NnQICvdG0E_3",
        "outputId": "2721532f-998e-4561-8323-980e9df0f666"
      },
      "execution_count": null,
      "outputs": [
        {
          "output_type": "execute_result",
          "data": {
            "text/plain": [
              "     Age          City Gender  Education Level  Occupation  Family Members  \\\n",
              "0      29      Kolkata   Male                3           2               5   \n",
              "1      29       Mumbai   Male                1           2               4   \n",
              "2      25       Mumbai   Male                1           2               4   \n",
              "3      25    Bangalore   Male                1           2               4   \n",
              "4      21       Mumbai   Male                3           1               4   \n",
              "..    ...          ...    ...              ...         ...             ...   \n",
              "294    19       Mumbai   Male                1           2               4   \n",
              "295    21    Bangalore   Male                1           2               4   \n",
              "296    23  Panaji, goa   Male                1           2               3   \n",
              "297    25       Mumbai   Male                1           2               2   \n",
              "298    29    Bangalore   Male                1           2               4   \n",
              "\n",
              "     Annual Income  Charging Hours Electric Cars are economical  \\\n",
              "0           150000               1                          Yes   \n",
              "1          1000000               1                          Yes   \n",
              "2             5000               5                          Yes   \n",
              "3           750000               1                   Don't know   \n",
              "4             5000              12                   Don't know   \n",
              "..             ...             ...                          ...   \n",
              "294         750000               1                          Yes   \n",
              "295         750000               1                          Yes   \n",
              "296         750000               1                          Yes   \n",
              "297         750000               1                          Yes   \n",
              "298        1000000               1                          Yes   \n",
              "\n",
              "     Charging stations Convert your car to all electric Hybrid or Both  \\\n",
              "0                   15                              Yes     Hybrid car   \n",
              "1                    8                              Yes   Electric car   \n",
              "2                   15            Didn't think about it     Hybrid car   \n",
              "3                    8            Didn't think about it     Hybrid car   \n",
              "4                   15            Didn't think about it     Hybrid car   \n",
              "..                 ...                              ...            ...   \n",
              "294                  8                              Yes     Hybrid car   \n",
              "295                 30                              Yes     Hybrid car   \n",
              "296                  8            Didn't think about it   Electric car   \n",
              "297                 15            Didn't think about it     Hybrid car   \n",
              "298                  8                               No     Hybrid car   \n",
              "\n",
              "     Next car will be electric car?  \n",
              "0                                 5  \n",
              "1                                 5  \n",
              "2                                 5  \n",
              "3                                 5  \n",
              "4                                 5  \n",
              "..                              ...  \n",
              "294                               5  \n",
              "295                               5  \n",
              "296                               5  \n",
              "297                               3  \n",
              "298                               3  \n",
              "\n",
              "[299 rows x 13 columns]"
            ],
            "text/html": [
              "\n",
              "  <div id=\"df-8fc07c66-64da-4783-b708-38599fdeb3c6\">\n",
              "    <div class=\"colab-df-container\">\n",
              "      <div>\n",
              "<style scoped>\n",
              "    .dataframe tbody tr th:only-of-type {\n",
              "        vertical-align: middle;\n",
              "    }\n",
              "\n",
              "    .dataframe tbody tr th {\n",
              "        vertical-align: top;\n",
              "    }\n",
              "\n",
              "    .dataframe thead th {\n",
              "        text-align: right;\n",
              "    }\n",
              "</style>\n",
              "<table border=\"1\" class=\"dataframe\">\n",
              "  <thead>\n",
              "    <tr style=\"text-align: right;\">\n",
              "      <th></th>\n",
              "      <th>Age</th>\n",
              "      <th>City</th>\n",
              "      <th>Gender</th>\n",
              "      <th>Education Level</th>\n",
              "      <th>Occupation</th>\n",
              "      <th>Family Members</th>\n",
              "      <th>Annual Income</th>\n",
              "      <th>Charging Hours</th>\n",
              "      <th>Electric Cars are economical</th>\n",
              "      <th>Charging stations</th>\n",
              "      <th>Convert your car to all electric</th>\n",
              "      <th>Hybrid or Both</th>\n",
              "      <th>Next car will be electric car?</th>\n",
              "    </tr>\n",
              "  </thead>\n",
              "  <tbody>\n",
              "    <tr>\n",
              "      <th>0</th>\n",
              "      <td>29</td>\n",
              "      <td>Kolkata</td>\n",
              "      <td>Male</td>\n",
              "      <td>3</td>\n",
              "      <td>2</td>\n",
              "      <td>5</td>\n",
              "      <td>150000</td>\n",
              "      <td>1</td>\n",
              "      <td>Yes</td>\n",
              "      <td>15</td>\n",
              "      <td>Yes</td>\n",
              "      <td>Hybrid car</td>\n",
              "      <td>5</td>\n",
              "    </tr>\n",
              "    <tr>\n",
              "      <th>1</th>\n",
              "      <td>29</td>\n",
              "      <td>Mumbai</td>\n",
              "      <td>Male</td>\n",
              "      <td>1</td>\n",
              "      <td>2</td>\n",
              "      <td>4</td>\n",
              "      <td>1000000</td>\n",
              "      <td>1</td>\n",
              "      <td>Yes</td>\n",
              "      <td>8</td>\n",
              "      <td>Yes</td>\n",
              "      <td>Electric car</td>\n",
              "      <td>5</td>\n",
              "    </tr>\n",
              "    <tr>\n",
              "      <th>2</th>\n",
              "      <td>25</td>\n",
              "      <td>Mumbai</td>\n",
              "      <td>Male</td>\n",
              "      <td>1</td>\n",
              "      <td>2</td>\n",
              "      <td>4</td>\n",
              "      <td>5000</td>\n",
              "      <td>5</td>\n",
              "      <td>Yes</td>\n",
              "      <td>15</td>\n",
              "      <td>Didn't think about it</td>\n",
              "      <td>Hybrid car</td>\n",
              "      <td>5</td>\n",
              "    </tr>\n",
              "    <tr>\n",
              "      <th>3</th>\n",
              "      <td>25</td>\n",
              "      <td>Bangalore</td>\n",
              "      <td>Male</td>\n",
              "      <td>1</td>\n",
              "      <td>2</td>\n",
              "      <td>4</td>\n",
              "      <td>750000</td>\n",
              "      <td>1</td>\n",
              "      <td>Don't know</td>\n",
              "      <td>8</td>\n",
              "      <td>Didn't think about it</td>\n",
              "      <td>Hybrid car</td>\n",
              "      <td>5</td>\n",
              "    </tr>\n",
              "    <tr>\n",
              "      <th>4</th>\n",
              "      <td>21</td>\n",
              "      <td>Mumbai</td>\n",
              "      <td>Male</td>\n",
              "      <td>3</td>\n",
              "      <td>1</td>\n",
              "      <td>4</td>\n",
              "      <td>5000</td>\n",
              "      <td>12</td>\n",
              "      <td>Don't know</td>\n",
              "      <td>15</td>\n",
              "      <td>Didn't think about it</td>\n",
              "      <td>Hybrid car</td>\n",
              "      <td>5</td>\n",
              "    </tr>\n",
              "    <tr>\n",
              "      <th>...</th>\n",
              "      <td>...</td>\n",
              "      <td>...</td>\n",
              "      <td>...</td>\n",
              "      <td>...</td>\n",
              "      <td>...</td>\n",
              "      <td>...</td>\n",
              "      <td>...</td>\n",
              "      <td>...</td>\n",
              "      <td>...</td>\n",
              "      <td>...</td>\n",
              "      <td>...</td>\n",
              "      <td>...</td>\n",
              "      <td>...</td>\n",
              "    </tr>\n",
              "    <tr>\n",
              "      <th>294</th>\n",
              "      <td>19</td>\n",
              "      <td>Mumbai</td>\n",
              "      <td>Male</td>\n",
              "      <td>1</td>\n",
              "      <td>2</td>\n",
              "      <td>4</td>\n",
              "      <td>750000</td>\n",
              "      <td>1</td>\n",
              "      <td>Yes</td>\n",
              "      <td>8</td>\n",
              "      <td>Yes</td>\n",
              "      <td>Hybrid car</td>\n",
              "      <td>5</td>\n",
              "    </tr>\n",
              "    <tr>\n",
              "      <th>295</th>\n",
              "      <td>21</td>\n",
              "      <td>Bangalore</td>\n",
              "      <td>Male</td>\n",
              "      <td>1</td>\n",
              "      <td>2</td>\n",
              "      <td>4</td>\n",
              "      <td>750000</td>\n",
              "      <td>1</td>\n",
              "      <td>Yes</td>\n",
              "      <td>30</td>\n",
              "      <td>Yes</td>\n",
              "      <td>Hybrid car</td>\n",
              "      <td>5</td>\n",
              "    </tr>\n",
              "    <tr>\n",
              "      <th>296</th>\n",
              "      <td>23</td>\n",
              "      <td>Panaji, goa</td>\n",
              "      <td>Male</td>\n",
              "      <td>1</td>\n",
              "      <td>2</td>\n",
              "      <td>3</td>\n",
              "      <td>750000</td>\n",
              "      <td>1</td>\n",
              "      <td>Yes</td>\n",
              "      <td>8</td>\n",
              "      <td>Didn't think about it</td>\n",
              "      <td>Electric car</td>\n",
              "      <td>5</td>\n",
              "    </tr>\n",
              "    <tr>\n",
              "      <th>297</th>\n",
              "      <td>25</td>\n",
              "      <td>Mumbai</td>\n",
              "      <td>Male</td>\n",
              "      <td>1</td>\n",
              "      <td>2</td>\n",
              "      <td>2</td>\n",
              "      <td>750000</td>\n",
              "      <td>1</td>\n",
              "      <td>Yes</td>\n",
              "      <td>15</td>\n",
              "      <td>Didn't think about it</td>\n",
              "      <td>Hybrid car</td>\n",
              "      <td>3</td>\n",
              "    </tr>\n",
              "    <tr>\n",
              "      <th>298</th>\n",
              "      <td>29</td>\n",
              "      <td>Bangalore</td>\n",
              "      <td>Male</td>\n",
              "      <td>1</td>\n",
              "      <td>2</td>\n",
              "      <td>4</td>\n",
              "      <td>1000000</td>\n",
              "      <td>1</td>\n",
              "      <td>Yes</td>\n",
              "      <td>8</td>\n",
              "      <td>No</td>\n",
              "      <td>Hybrid car</td>\n",
              "      <td>3</td>\n",
              "    </tr>\n",
              "  </tbody>\n",
              "</table>\n",
              "<p>299 rows × 13 columns</p>\n",
              "</div>\n",
              "      <button class=\"colab-df-convert\" onclick=\"convertToInteractive('df-8fc07c66-64da-4783-b708-38599fdeb3c6')\"\n",
              "              title=\"Convert this dataframe to an interactive table.\"\n",
              "              style=\"display:none;\">\n",
              "        \n",
              "  <svg xmlns=\"http://www.w3.org/2000/svg\" height=\"24px\"viewBox=\"0 0 24 24\"\n",
              "       width=\"24px\">\n",
              "    <path d=\"M0 0h24v24H0V0z\" fill=\"none\"/>\n",
              "    <path d=\"M18.56 5.44l.94 2.06.94-2.06 2.06-.94-2.06-.94-.94-2.06-.94 2.06-2.06.94zm-11 1L8.5 8.5l.94-2.06 2.06-.94-2.06-.94L8.5 2.5l-.94 2.06-2.06.94zm10 10l.94 2.06.94-2.06 2.06-.94-2.06-.94-.94-2.06-.94 2.06-2.06.94z\"/><path d=\"M17.41 7.96l-1.37-1.37c-.4-.4-.92-.59-1.43-.59-.52 0-1.04.2-1.43.59L10.3 9.45l-7.72 7.72c-.78.78-.78 2.05 0 2.83L4 21.41c.39.39.9.59 1.41.59.51 0 1.02-.2 1.41-.59l7.78-7.78 2.81-2.81c.8-.78.8-2.07 0-2.86zM5.41 20L4 18.59l7.72-7.72 1.47 1.35L5.41 20z\"/>\n",
              "  </svg>\n",
              "      </button>\n",
              "      \n",
              "  <style>\n",
              "    .colab-df-container {\n",
              "      display:flex;\n",
              "      flex-wrap:wrap;\n",
              "      gap: 12px;\n",
              "    }\n",
              "\n",
              "    .colab-df-convert {\n",
              "      background-color: #E8F0FE;\n",
              "      border: none;\n",
              "      border-radius: 50%;\n",
              "      cursor: pointer;\n",
              "      display: none;\n",
              "      fill: #1967D2;\n",
              "      height: 32px;\n",
              "      padding: 0 0 0 0;\n",
              "      width: 32px;\n",
              "    }\n",
              "\n",
              "    .colab-df-convert:hover {\n",
              "      background-color: #E2EBFA;\n",
              "      box-shadow: 0px 1px 2px rgba(60, 64, 67, 0.3), 0px 1px 3px 1px rgba(60, 64, 67, 0.15);\n",
              "      fill: #174EA6;\n",
              "    }\n",
              "\n",
              "    [theme=dark] .colab-df-convert {\n",
              "      background-color: #3B4455;\n",
              "      fill: #D2E3FC;\n",
              "    }\n",
              "\n",
              "    [theme=dark] .colab-df-convert:hover {\n",
              "      background-color: #434B5C;\n",
              "      box-shadow: 0px 1px 3px 1px rgba(0, 0, 0, 0.15);\n",
              "      filter: drop-shadow(0px 1px 2px rgba(0, 0, 0, 0.3));\n",
              "      fill: #FFFFFF;\n",
              "    }\n",
              "  </style>\n",
              "\n",
              "      <script>\n",
              "        const buttonEl =\n",
              "          document.querySelector('#df-8fc07c66-64da-4783-b708-38599fdeb3c6 button.colab-df-convert');\n",
              "        buttonEl.style.display =\n",
              "          google.colab.kernel.accessAllowed ? 'block' : 'none';\n",
              "\n",
              "        async function convertToInteractive(key) {\n",
              "          const element = document.querySelector('#df-8fc07c66-64da-4783-b708-38599fdeb3c6');\n",
              "          const dataTable =\n",
              "            await google.colab.kernel.invokeFunction('convertToInteractive',\n",
              "                                                     [key], {});\n",
              "          if (!dataTable) return;\n",
              "\n",
              "          const docLinkHtml = 'Like what you see? Visit the ' +\n",
              "            '<a target=\"_blank\" href=https://colab.research.google.com/notebooks/data_table.ipynb>data table notebook</a>'\n",
              "            + ' to learn more about interactive tables.';\n",
              "          element.innerHTML = '';\n",
              "          dataTable['output_type'] = 'display_data';\n",
              "          await google.colab.output.renderOutput(dataTable, element);\n",
              "          const docLink = document.createElement('div');\n",
              "          docLink.innerHTML = docLinkHtml;\n",
              "          element.appendChild(docLink);\n",
              "        }\n",
              "      </script>\n",
              "    </div>\n",
              "  </div>\n",
              "  "
            ]
          },
          "metadata": {},
          "execution_count": 34
        }
      ]
    },
    {
      "cell_type": "code",
      "source": [
        "df['Education Level'].unique()"
      ],
      "metadata": {
        "colab": {
          "base_uri": "https://localhost:8080/"
        },
        "id": "Y84cuorM0Hhq",
        "outputId": "b5941903-2c37-4d78-9887-6997172c0007"
      },
      "execution_count": null,
      "outputs": [
        {
          "output_type": "execute_result",
          "data": {
            "text/plain": [
              "array([3, 1, 2, 0])"
            ]
          },
          "metadata": {},
          "execution_count": 37
        }
      ]
    },
    {
      "cell_type": "code",
      "source": [
        "\n",
        "bins=[0,1000000,2000000,3000000,4000000]\n",
        "group=['Low','Average','High','Very high']\n",
        "df['Income_bin']=pd.cut(df['Annual Income'],bins,labels=group)\n",
        "df['Income_bin']"
      ],
      "metadata": {
        "colab": {
          "base_uri": "https://localhost:8080/"
        },
        "id": "1sZCvHNJ0U_r",
        "outputId": "6fcafff3-809d-4de1-a436-c3db3c0525f1"
      },
      "execution_count": null,
      "outputs": [
        {
          "output_type": "execute_result",
          "data": {
            "text/plain": [
              "0      Low\n",
              "1      Low\n",
              "2      Low\n",
              "3      Low\n",
              "4      Low\n",
              "      ... \n",
              "294    Low\n",
              "295    Low\n",
              "296    Low\n",
              "297    Low\n",
              "298    Low\n",
              "Name: Income_bin, Length: 299, dtype: category\n",
              "Categories (4, object): ['Low' < 'Average' < 'High' < 'Very high']"
            ]
          },
          "metadata": {},
          "execution_count": 43
        }
      ]
    },
    {
      "cell_type": "code",
      "source": [
        "df"
      ],
      "metadata": {
        "colab": {
          "base_uri": "https://localhost:8080/",
          "height": 676
        },
        "id": "ntNgo2YH002b",
        "outputId": "cfc2f8b6-8063-44db-ac7a-f022ebee14ea"
      },
      "execution_count": null,
      "outputs": [
        {
          "output_type": "execute_result",
          "data": {
            "text/plain": [
              "     Age          City Gender  Education Level  Occupation  Family Members  \\\n",
              "0      29      Kolkata   Male                3           2               5   \n",
              "1      29       Mumbai   Male                1           2               4   \n",
              "2      25       Mumbai   Male                1           2               4   \n",
              "3      25    Bangalore   Male                1           2               4   \n",
              "4      21       Mumbai   Male                3           1               4   \n",
              "..    ...          ...    ...              ...         ...             ...   \n",
              "294    19       Mumbai   Male                1           2               4   \n",
              "295    21    Bangalore   Male                1           2               4   \n",
              "296    23  Panaji, goa   Male                1           2               3   \n",
              "297    25       Mumbai   Male                1           2               2   \n",
              "298    29    Bangalore   Male                1           2               4   \n",
              "\n",
              "     Annual Income  Charging Hours Electric Cars are economical  \\\n",
              "0           150000               1                          Yes   \n",
              "1          1000000               1                          Yes   \n",
              "2             5000               5                          Yes   \n",
              "3           750000               1                   Don't know   \n",
              "4             5000              12                   Don't know   \n",
              "..             ...             ...                          ...   \n",
              "294         750000               1                          Yes   \n",
              "295         750000               1                          Yes   \n",
              "296         750000               1                          Yes   \n",
              "297         750000               1                          Yes   \n",
              "298        1000000               1                          Yes   \n",
              "\n",
              "     Charging stations Convert your car to all electric Hybrid or Both  \\\n",
              "0                   15                              Yes     Hybrid car   \n",
              "1                    8                              Yes   Electric car   \n",
              "2                   15            Didn't think about it     Hybrid car   \n",
              "3                    8            Didn't think about it     Hybrid car   \n",
              "4                   15            Didn't think about it     Hybrid car   \n",
              "..                 ...                              ...            ...   \n",
              "294                  8                              Yes     Hybrid car   \n",
              "295                 30                              Yes     Hybrid car   \n",
              "296                  8            Didn't think about it   Electric car   \n",
              "297                 15            Didn't think about it     Hybrid car   \n",
              "298                  8                               No     Hybrid car   \n",
              "\n",
              "     Next car will be electric car? Income_bin  \n",
              "0                                 5        Low  \n",
              "1                                 5        Low  \n",
              "2                                 5        Low  \n",
              "3                                 5        Low  \n",
              "4                                 5        Low  \n",
              "..                              ...        ...  \n",
              "294                               5        Low  \n",
              "295                               5        Low  \n",
              "296                               5        Low  \n",
              "297                               3        Low  \n",
              "298                               3        Low  \n",
              "\n",
              "[299 rows x 14 columns]"
            ],
            "text/html": [
              "\n",
              "  <div id=\"df-7a448398-0fae-4197-a3f3-4faf1612da19\">\n",
              "    <div class=\"colab-df-container\">\n",
              "      <div>\n",
              "<style scoped>\n",
              "    .dataframe tbody tr th:only-of-type {\n",
              "        vertical-align: middle;\n",
              "    }\n",
              "\n",
              "    .dataframe tbody tr th {\n",
              "        vertical-align: top;\n",
              "    }\n",
              "\n",
              "    .dataframe thead th {\n",
              "        text-align: right;\n",
              "    }\n",
              "</style>\n",
              "<table border=\"1\" class=\"dataframe\">\n",
              "  <thead>\n",
              "    <tr style=\"text-align: right;\">\n",
              "      <th></th>\n",
              "      <th>Age</th>\n",
              "      <th>City</th>\n",
              "      <th>Gender</th>\n",
              "      <th>Education Level</th>\n",
              "      <th>Occupation</th>\n",
              "      <th>Family Members</th>\n",
              "      <th>Annual Income</th>\n",
              "      <th>Charging Hours</th>\n",
              "      <th>Electric Cars are economical</th>\n",
              "      <th>Charging stations</th>\n",
              "      <th>Convert your car to all electric</th>\n",
              "      <th>Hybrid or Both</th>\n",
              "      <th>Next car will be electric car?</th>\n",
              "      <th>Income_bin</th>\n",
              "    </tr>\n",
              "  </thead>\n",
              "  <tbody>\n",
              "    <tr>\n",
              "      <th>0</th>\n",
              "      <td>29</td>\n",
              "      <td>Kolkata</td>\n",
              "      <td>Male</td>\n",
              "      <td>3</td>\n",
              "      <td>2</td>\n",
              "      <td>5</td>\n",
              "      <td>150000</td>\n",
              "      <td>1</td>\n",
              "      <td>Yes</td>\n",
              "      <td>15</td>\n",
              "      <td>Yes</td>\n",
              "      <td>Hybrid car</td>\n",
              "      <td>5</td>\n",
              "      <td>Low</td>\n",
              "    </tr>\n",
              "    <tr>\n",
              "      <th>1</th>\n",
              "      <td>29</td>\n",
              "      <td>Mumbai</td>\n",
              "      <td>Male</td>\n",
              "      <td>1</td>\n",
              "      <td>2</td>\n",
              "      <td>4</td>\n",
              "      <td>1000000</td>\n",
              "      <td>1</td>\n",
              "      <td>Yes</td>\n",
              "      <td>8</td>\n",
              "      <td>Yes</td>\n",
              "      <td>Electric car</td>\n",
              "      <td>5</td>\n",
              "      <td>Low</td>\n",
              "    </tr>\n",
              "    <tr>\n",
              "      <th>2</th>\n",
              "      <td>25</td>\n",
              "      <td>Mumbai</td>\n",
              "      <td>Male</td>\n",
              "      <td>1</td>\n",
              "      <td>2</td>\n",
              "      <td>4</td>\n",
              "      <td>5000</td>\n",
              "      <td>5</td>\n",
              "      <td>Yes</td>\n",
              "      <td>15</td>\n",
              "      <td>Didn't think about it</td>\n",
              "      <td>Hybrid car</td>\n",
              "      <td>5</td>\n",
              "      <td>Low</td>\n",
              "    </tr>\n",
              "    <tr>\n",
              "      <th>3</th>\n",
              "      <td>25</td>\n",
              "      <td>Bangalore</td>\n",
              "      <td>Male</td>\n",
              "      <td>1</td>\n",
              "      <td>2</td>\n",
              "      <td>4</td>\n",
              "      <td>750000</td>\n",
              "      <td>1</td>\n",
              "      <td>Don't know</td>\n",
              "      <td>8</td>\n",
              "      <td>Didn't think about it</td>\n",
              "      <td>Hybrid car</td>\n",
              "      <td>5</td>\n",
              "      <td>Low</td>\n",
              "    </tr>\n",
              "    <tr>\n",
              "      <th>4</th>\n",
              "      <td>21</td>\n",
              "      <td>Mumbai</td>\n",
              "      <td>Male</td>\n",
              "      <td>3</td>\n",
              "      <td>1</td>\n",
              "      <td>4</td>\n",
              "      <td>5000</td>\n",
              "      <td>12</td>\n",
              "      <td>Don't know</td>\n",
              "      <td>15</td>\n",
              "      <td>Didn't think about it</td>\n",
              "      <td>Hybrid car</td>\n",
              "      <td>5</td>\n",
              "      <td>Low</td>\n",
              "    </tr>\n",
              "    <tr>\n",
              "      <th>...</th>\n",
              "      <td>...</td>\n",
              "      <td>...</td>\n",
              "      <td>...</td>\n",
              "      <td>...</td>\n",
              "      <td>...</td>\n",
              "      <td>...</td>\n",
              "      <td>...</td>\n",
              "      <td>...</td>\n",
              "      <td>...</td>\n",
              "      <td>...</td>\n",
              "      <td>...</td>\n",
              "      <td>...</td>\n",
              "      <td>...</td>\n",
              "      <td>...</td>\n",
              "    </tr>\n",
              "    <tr>\n",
              "      <th>294</th>\n",
              "      <td>19</td>\n",
              "      <td>Mumbai</td>\n",
              "      <td>Male</td>\n",
              "      <td>1</td>\n",
              "      <td>2</td>\n",
              "      <td>4</td>\n",
              "      <td>750000</td>\n",
              "      <td>1</td>\n",
              "      <td>Yes</td>\n",
              "      <td>8</td>\n",
              "      <td>Yes</td>\n",
              "      <td>Hybrid car</td>\n",
              "      <td>5</td>\n",
              "      <td>Low</td>\n",
              "    </tr>\n",
              "    <tr>\n",
              "      <th>295</th>\n",
              "      <td>21</td>\n",
              "      <td>Bangalore</td>\n",
              "      <td>Male</td>\n",
              "      <td>1</td>\n",
              "      <td>2</td>\n",
              "      <td>4</td>\n",
              "      <td>750000</td>\n",
              "      <td>1</td>\n",
              "      <td>Yes</td>\n",
              "      <td>30</td>\n",
              "      <td>Yes</td>\n",
              "      <td>Hybrid car</td>\n",
              "      <td>5</td>\n",
              "      <td>Low</td>\n",
              "    </tr>\n",
              "    <tr>\n",
              "      <th>296</th>\n",
              "      <td>23</td>\n",
              "      <td>Panaji, goa</td>\n",
              "      <td>Male</td>\n",
              "      <td>1</td>\n",
              "      <td>2</td>\n",
              "      <td>3</td>\n",
              "      <td>750000</td>\n",
              "      <td>1</td>\n",
              "      <td>Yes</td>\n",
              "      <td>8</td>\n",
              "      <td>Didn't think about it</td>\n",
              "      <td>Electric car</td>\n",
              "      <td>5</td>\n",
              "      <td>Low</td>\n",
              "    </tr>\n",
              "    <tr>\n",
              "      <th>297</th>\n",
              "      <td>25</td>\n",
              "      <td>Mumbai</td>\n",
              "      <td>Male</td>\n",
              "      <td>1</td>\n",
              "      <td>2</td>\n",
              "      <td>2</td>\n",
              "      <td>750000</td>\n",
              "      <td>1</td>\n",
              "      <td>Yes</td>\n",
              "      <td>15</td>\n",
              "      <td>Didn't think about it</td>\n",
              "      <td>Hybrid car</td>\n",
              "      <td>3</td>\n",
              "      <td>Low</td>\n",
              "    </tr>\n",
              "    <tr>\n",
              "      <th>298</th>\n",
              "      <td>29</td>\n",
              "      <td>Bangalore</td>\n",
              "      <td>Male</td>\n",
              "      <td>1</td>\n",
              "      <td>2</td>\n",
              "      <td>4</td>\n",
              "      <td>1000000</td>\n",
              "      <td>1</td>\n",
              "      <td>Yes</td>\n",
              "      <td>8</td>\n",
              "      <td>No</td>\n",
              "      <td>Hybrid car</td>\n",
              "      <td>3</td>\n",
              "      <td>Low</td>\n",
              "    </tr>\n",
              "  </tbody>\n",
              "</table>\n",
              "<p>299 rows × 14 columns</p>\n",
              "</div>\n",
              "      <button class=\"colab-df-convert\" onclick=\"convertToInteractive('df-7a448398-0fae-4197-a3f3-4faf1612da19')\"\n",
              "              title=\"Convert this dataframe to an interactive table.\"\n",
              "              style=\"display:none;\">\n",
              "        \n",
              "  <svg xmlns=\"http://www.w3.org/2000/svg\" height=\"24px\"viewBox=\"0 0 24 24\"\n",
              "       width=\"24px\">\n",
              "    <path d=\"M0 0h24v24H0V0z\" fill=\"none\"/>\n",
              "    <path d=\"M18.56 5.44l.94 2.06.94-2.06 2.06-.94-2.06-.94-.94-2.06-.94 2.06-2.06.94zm-11 1L8.5 8.5l.94-2.06 2.06-.94-2.06-.94L8.5 2.5l-.94 2.06-2.06.94zm10 10l.94 2.06.94-2.06 2.06-.94-2.06-.94-.94-2.06-.94 2.06-2.06.94z\"/><path d=\"M17.41 7.96l-1.37-1.37c-.4-.4-.92-.59-1.43-.59-.52 0-1.04.2-1.43.59L10.3 9.45l-7.72 7.72c-.78.78-.78 2.05 0 2.83L4 21.41c.39.39.9.59 1.41.59.51 0 1.02-.2 1.41-.59l7.78-7.78 2.81-2.81c.8-.78.8-2.07 0-2.86zM5.41 20L4 18.59l7.72-7.72 1.47 1.35L5.41 20z\"/>\n",
              "  </svg>\n",
              "      </button>\n",
              "      \n",
              "  <style>\n",
              "    .colab-df-container {\n",
              "      display:flex;\n",
              "      flex-wrap:wrap;\n",
              "      gap: 12px;\n",
              "    }\n",
              "\n",
              "    .colab-df-convert {\n",
              "      background-color: #E8F0FE;\n",
              "      border: none;\n",
              "      border-radius: 50%;\n",
              "      cursor: pointer;\n",
              "      display: none;\n",
              "      fill: #1967D2;\n",
              "      height: 32px;\n",
              "      padding: 0 0 0 0;\n",
              "      width: 32px;\n",
              "    }\n",
              "\n",
              "    .colab-df-convert:hover {\n",
              "      background-color: #E2EBFA;\n",
              "      box-shadow: 0px 1px 2px rgba(60, 64, 67, 0.3), 0px 1px 3px 1px rgba(60, 64, 67, 0.15);\n",
              "      fill: #174EA6;\n",
              "    }\n",
              "\n",
              "    [theme=dark] .colab-df-convert {\n",
              "      background-color: #3B4455;\n",
              "      fill: #D2E3FC;\n",
              "    }\n",
              "\n",
              "    [theme=dark] .colab-df-convert:hover {\n",
              "      background-color: #434B5C;\n",
              "      box-shadow: 0px 1px 3px 1px rgba(0, 0, 0, 0.15);\n",
              "      filter: drop-shadow(0px 1px 2px rgba(0, 0, 0, 0.3));\n",
              "      fill: #FFFFFF;\n",
              "    }\n",
              "  </style>\n",
              "\n",
              "      <script>\n",
              "        const buttonEl =\n",
              "          document.querySelector('#df-7a448398-0fae-4197-a3f3-4faf1612da19 button.colab-df-convert');\n",
              "        buttonEl.style.display =\n",
              "          google.colab.kernel.accessAllowed ? 'block' : 'none';\n",
              "\n",
              "        async function convertToInteractive(key) {\n",
              "          const element = document.querySelector('#df-7a448398-0fae-4197-a3f3-4faf1612da19');\n",
              "          const dataTable =\n",
              "            await google.colab.kernel.invokeFunction('convertToInteractive',\n",
              "                                                     [key], {});\n",
              "          if (!dataTable) return;\n",
              "\n",
              "          const docLinkHtml = 'Like what you see? Visit the ' +\n",
              "            '<a target=\"_blank\" href=https://colab.research.google.com/notebooks/data_table.ipynb>data table notebook</a>'\n",
              "            + ' to learn more about interactive tables.';\n",
              "          element.innerHTML = '';\n",
              "          dataTable['output_type'] = 'display_data';\n",
              "          await google.colab.output.renderOutput(dataTable, element);\n",
              "          const docLink = document.createElement('div');\n",
              "          docLink.innerHTML = docLinkHtml;\n",
              "          element.appendChild(docLink);\n",
              "        }\n",
              "      </script>\n",
              "    </div>\n",
              "  </div>\n",
              "  "
            ]
          },
          "metadata": {},
          "execution_count": 44
        }
      ]
    },
    {
      "cell_type": "code",
      "source": [
        "df['Income_bin1']=df['Income_bin'].cat.codes\n",
        "     "
      ],
      "metadata": {
        "id": "id-UyFlX0_MO"
      },
      "execution_count": null,
      "outputs": []
    },
    {
      "cell_type": "code",
      "source": [
        "df['Income_bin1'].unique()"
      ],
      "metadata": {
        "colab": {
          "base_uri": "https://localhost:8080/"
        },
        "id": "Fm-xpJ8j1C9l",
        "outputId": "0b95d04c-2280-49f7-efb7-a4e1eb2cfc10"
      },
      "execution_count": null,
      "outputs": [
        {
          "output_type": "execute_result",
          "data": {
            "text/plain": [
              "array([0], dtype=int8)"
            ]
          },
          "metadata": {},
          "execution_count": 47
        }
      ]
    },
    {
      "cell_type": "code",
      "source": [
        "df['Annual Income'].describe()"
      ],
      "metadata": {
        "colab": {
          "base_uri": "https://localhost:8080/"
        },
        "id": "Bpt4QZ3S1G5Y",
        "outputId": "1577d477-0a23-46f8-e182-8e7b16339a2c"
      },
      "execution_count": null,
      "outputs": [
        {
          "output_type": "execute_result",
          "data": {
            "text/plain": [
              "count        299.000000\n",
              "mean      603812.709030\n",
              "std       387815.052751\n",
              "min         5000.000000\n",
              "25%       150000.000000\n",
              "50%       750000.000000\n",
              "75%      1000000.000000\n",
              "max      1000000.000000\n",
              "Name: Annual Income, dtype: float64"
            ]
          },
          "metadata": {},
          "execution_count": 48
        }
      ]
    },
    {
      "cell_type": "code",
      "source": [
        "plt.figure(figsize=(15, 5))\n",
        "plt.subplot(1, 2, 1)\n",
        "plt.title('Age and Annual Income')\n",
        "pic=sns.barplot(x='Age ', y='Income_bin1', data=df,palette='ocean')\n",
        "pic.set_xticklabels(pic.get_xticklabels(),rotation=90,ha='right')\n",
        "     "
      ],
      "metadata": {
        "colab": {
          "base_uri": "https://localhost:8080/",
          "height": 1000
        },
        "id": "ohdjBmYc1KSu",
        "outputId": "8e6768b4-c4c4-4f78-bec6-70c9b0d4957e"
      },
      "execution_count": null,
      "outputs": [
        {
          "output_type": "execute_result",
          "data": {
            "text/plain": [
              "[Text(0, 0, '17'),\n",
              " Text(1, 0, '18'),\n",
              " Text(2, 0, '19'),\n",
              " Text(3, 0, '20'),\n",
              " Text(4, 0, '21'),\n",
              " Text(5, 0, '22'),\n",
              " Text(6, 0, '23'),\n",
              " Text(7, 0, '24'),\n",
              " Text(8, 0, '25'),\n",
              " Text(9, 0, '26'),\n",
              " Text(10, 0, '27'),\n",
              " Text(11, 0, '28'),\n",
              " Text(12, 0, '29'),\n",
              " Text(13, 0, '30'),\n",
              " Text(14, 0, '31'),\n",
              " Text(15, 0, '33'),\n",
              " Text(16, 0, '35'),\n",
              " Text(17, 0, '36'),\n",
              " Text(18, 0, '37'),\n",
              " Text(19, 0, '38'),\n",
              " Text(20, 0, '39'),\n",
              " Text(21, 0, '40'),\n",
              " Text(22, 0, '41'),\n",
              " Text(23, 0, '43'),\n",
              " Text(24, 0, '45'),\n",
              " Text(25, 0, '47'),\n",
              " Text(26, 0, '48'),\n",
              " Text(27, 0, '49'),\n",
              " Text(28, 0, '51'),\n",
              " Text(29, 0, '53'),\n",
              " Text(30, 0, '54'),\n",
              " Text(31, 0, '55'),\n",
              " Text(32, 0, '57')]"
            ]
          },
          "metadata": {},
          "execution_count": 49
        },
        {
          "output_type": "display_data",
          "data": {
            "text/plain": [
              "<Figure size 1500x500 with 1 Axes>"
            ],
            "image/png": "[encoded data removed]"
          },
          "metadata": {}
        }
      ]
    },
    {
      "cell_type": "code",
      "source": [
        "x1 = df.loc[:,['Age ', 'Annual Income']].values\n",
        "from sklearn.cluster import KMeans\n",
        "wcss= []\n",
        "for k in range(1,11):\n",
        "  kmeans= KMeans(n_clusters=k, init='k-means++')\n",
        "  kmeans.fit(x1)\n",
        "  wcss.append(kmeans.inertia_)\n",
        "plt.figure(figsize=(12,6))\n",
        "plt.grid()\n",
        "plt.plot(range(1,11),wcss,linewidth=2,color='red',marker='8')\n",
        "plt.xlabel('K Value')\n",
        "plt.ylabel('WCSS')\n",
        "plt.show()"
      ],
      "metadata": {
        "colab": {
          "base_uri": "https://localhost:8080/",
          "height": 924
        },
        "id": "3Y5u_l0a1Rex",
        "outputId": "60570eae-d91b-42a9-c01b-c303da24fcc1"
      },
      "execution_count": null,
      "outputs": [
        {
          "output_type": "stream",
          "name": "stderr",
          "text": [
            "/usr/local/lib/python3.10/dist-packages/sklearn/cluster/_kmeans.py:870: FutureWarning: The default value of `n_init` will change from 10 to 'auto' in 1.4. Set the value of `n_init` explicitly to suppress the warning\n",
            "  warnings.warn(\n",
            "/usr/local/lib/python3.10/dist-packages/sklearn/cluster/_kmeans.py:870: FutureWarning: The default value of `n_init` will change from 10 to 'auto' in 1.4. Set the value of `n_init` explicitly to suppress the warning\n",
            "  warnings.warn(\n",
            "/usr/local/lib/python3.10/dist-packages/sklearn/cluster/_kmeans.py:870: FutureWarning: The default value of `n_init` will change from 10 to 'auto' in 1.4. Set the value of `n_init` explicitly to suppress the warning\n",
            "  warnings.warn(\n",
            "/usr/local/lib/python3.10/dist-packages/sklearn/cluster/_kmeans.py:870: FutureWarning: The default value of `n_init` will change from 10 to 'auto' in 1.4. Set the value of `n_init` explicitly to suppress the warning\n",
            "  warnings.warn(\n",
            "/usr/local/lib/python3.10/dist-packages/sklearn/cluster/_kmeans.py:870: FutureWarning: The default value of `n_init` will change from 10 to 'auto' in 1.4. Set the value of `n_init` explicitly to suppress the warning\n",
            "  warnings.warn(\n",
            "/usr/local/lib/python3.10/dist-packages/sklearn/cluster/_kmeans.py:870: FutureWarning: The default value of `n_init` will change from 10 to 'auto' in 1.4. Set the value of `n_init` explicitly to suppress the warning\n",
            "  warnings.warn(\n",
            "/usr/local/lib/python3.10/dist-packages/sklearn/cluster/_kmeans.py:870: FutureWarning: The default value of `n_init` will change from 10 to 'auto' in 1.4. Set the value of `n_init` explicitly to suppress the warning\n",
            "  warnings.warn(\n",
            "/usr/local/lib/python3.10/dist-packages/sklearn/cluster/_kmeans.py:870: FutureWarning: The default value of `n_init` will change from 10 to 'auto' in 1.4. Set the value of `n_init` explicitly to suppress the warning\n",
            "  warnings.warn(\n",
            "/usr/local/lib/python3.10/dist-packages/sklearn/cluster/_kmeans.py:870: FutureWarning: The default value of `n_init` will change from 10 to 'auto' in 1.4. Set the value of `n_init` explicitly to suppress the warning\n",
            "  warnings.warn(\n",
            "/usr/local/lib/python3.10/dist-packages/sklearn/cluster/_kmeans.py:870: FutureWarning: The default value of `n_init` will change from 10 to 'auto' in 1.4. Set the value of `n_init` explicitly to suppress the warning\n",
            "  warnings.warn(\n"
          ]
        },
        {
          "output_type": "display_data",
          "data": {
            "text/plain": [
              "<Figure size 1200x600 with 1 Axes>"
            ],
            "image/png": "[encoded data removed]"
          },
          "metadata": {}
        }
      ]
    },
    {
      "cell_type": "code",
      "source": [
        "kmeans = KMeans(n_clusters=3)\n",
        "label = kmeans.fit_predict(x1)\n",
        "print(label)"
      ],
      "metadata": {
        "colab": {
          "base_uri": "https://localhost:8080/"
        },
        "id": "HqgBfOpt1XtP",
        "outputId": "24f18147-5906-4982-d527-c69c632e5d12"
      },
      "execution_count": null,
      "outputs": [
        {
          "output_type": "stream",
          "name": "stdout",
          "text": [
            "[1 2 1 0 1 1 0 0 0 0 2 1 2 0 0 1 0 1 1 2 1 2 0 2 1 0 1 1 0 0 0 2 2 2 0 0 0\n",
            " 0 2 2 0 0 0 0 2 0 0 0 2 2 1 1 2 0 0 2 2 0 0 0 1 1 0 0 2 2 1 1 2 2 2 0 0 2\n",
            " 2 1 2 1 0 0 0 0 1 1 1 1 2 1 1 2 1 1 1 1 0 0 0 2 1 0 1 1 0 0 0 0 2 1 2 0 0\n",
            " 1 0 1 1 2 1 2 0 2 1 0 1 1 0 0 0 2 2 2 0 0 0 0 2 2 0 0 0 0 2 0 0 0 2 2 1 1\n",
            " 2 0 0 2 2 0 0 0 1 1 0 0 2 2 1 1 2 2 2 0 0 2 2 1 2 1 0 0 0 0 1 1 1 1 2 1 1\n",
            " 2 1 1 1 1 0 0 0 2 1 0 1 1 0 0 0 0 2 1 2 0 0 1 0 1 1 2 1 2 0 2 1 0 1 1 0 0\n",
            " 0 2 2 2 0 0 0 0 2 2 0 0 0 0 2 0 0 0 2 2 1 1 2 0 0 2 2 0 0 0 1 1 0 0 2 2 1\n",
            " 1 2 2 2 0 0 2 2 1 2 1 0 0 0 0 1 1 1 1 2 1 1 2 1 1 1 1 0 0 0 2 1 0 1 1 0 0\n",
            " 0 0 2]\n"
          ]
        },
        {
          "output_type": "stream",
          "name": "stderr",
          "text": [
            "/usr/local/lib/python3.10/dist-packages/sklearn/cluster/_kmeans.py:870: FutureWarning: The default value of `n_init` will change from 10 to 'auto' in 1.4. Set the value of `n_init` explicitly to suppress the warning\n",
            "  warnings.warn(\n"
          ]
        }
      ]
    },
    {
      "cell_type": "code",
      "source": [
        "print(kmeans.cluster_centers_)\n"
      ],
      "metadata": {
        "colab": {
          "base_uri": "https://localhost:8080/"
        },
        "id": "1lyE49Fh1aUt",
        "outputId": "b9c9d8f9-c0d7-4136-81cb-c1d7f0fbf0f2"
      },
      "execution_count": null,
      "outputs": [
        {
          "output_type": "stream",
          "name": "stdout",
          "text": [
            "[[3.24080000e+01 7.50000000e+05]\n",
            " [3.29450549e+01 4.16483516e+04]\n",
            " [3.41927711e+01 1.00000000e+06]]\n"
          ]
        }
      ]
    },
    {
      "cell_type": "code",
      "source": [
        "plt.scatter(x1[:,0],x1[:,1],c=kmeans.labels_,cmap='rainbow')\n",
        "plt.scatter(kmeans.cluster_centers_[:,0],kmeans.cluster_centers_[:,1],color='black')\n",
        "plt.title('Customer Clusters')\n",
        "plt.xlabel('Age ')\n",
        "plt.ylabel('Annual Income')\n",
        "plt.show()"
      ],
      "metadata": {
        "colab": {
          "base_uri": "https://localhost:8080/",
          "height": 472
        },
        "id": "81dd3h_g1b4n",
        "outputId": "c35ffb19-85ff-4079-c56e-40963d5adbb0"
      },
      "execution_count": null,
      "outputs": [
        {
          "output_type": "display_data",
          "data": {
            "text/plain": [
              "<Figure size 640x480 with 1 Axes>"
            ],
            "image/png": "[encoded data removed]"
          },
          "metadata": {}
        }
      ]
    },
    {
      "cell_type": "code",
      "source": [
        "kmeans = KMeans(n_clusters=4)\n",
        "label = kmeans.fit_predict(x1)\n",
        "print(label)"
      ],
      "metadata": {
        "colab": {
          "base_uri": "https://localhost:8080/"
        },
        "id": "MxZWYp6t1dts",
        "outputId": "7d4c1a30-a967-44f6-e7d1-44f8a17d8ffb"
      },
      "execution_count": null,
      "outputs": [
        {
          "output_type": "stream",
          "name": "stdout",
          "text": [
            "[3 0 1 2 1 3 2 2 2 2 0 1 0 2 2 1 2 3 1 0 1 0 2 0 1 2 1 1 2 2 2 0 0 0 2 2 2\n",
            " 2 0 0 2 2 2 2 0 2 2 2 0 0 1 1 0 2 2 0 0 2 2 2 3 1 2 2 0 0 3 3 0 0 0 2 2 0\n",
            " 0 1 0 1 2 2 2 2 1 1 3 1 0 1 3 0 1 1 1 1 2 2 2 0 1 2 1 3 2 2 2 2 0 1 0 2 2\n",
            " 1 2 3 1 0 1 0 2 0 1 2 1 1 2 2 2 0 0 0 2 2 2 2 0 0 2 2 2 2 0 2 2 2 0 0 1 1\n",
            " 0 2 2 0 0 2 2 2 3 1 2 2 0 0 3 3 0 0 0 2 2 0 0 1 0 1 2 2 2 2 1 1 3 1 0 1 3\n",
            " 0 1 1 1 1 2 2 2 0 1 2 1 3 2 2 2 2 0 1 0 2 2 1 2 3 1 0 1 0 2 0 1 2 1 1 2 2\n",
            " 2 0 0 0 2 2 2 2 0 0 2 2 2 2 0 2 2 2 0 0 1 1 0 2 2 0 0 2 2 2 3 1 2 2 0 0 3\n",
            " 3 0 0 0 2 2 0 0 1 0 1 2 2 2 2 1 1 3 1 0 1 3 0 1 1 1 1 2 2 2 0 1 2 1 3 2 2\n",
            " 2 2 0]\n"
          ]
        },
        {
          "output_type": "stream",
          "name": "stderr",
          "text": [
            "/usr/local/lib/python3.10/dist-packages/sklearn/cluster/_kmeans.py:870: FutureWarning: The default value of `n_init` will change from 10 to 'auto' in 1.4. Set the value of `n_init` explicitly to suppress the warning\n",
            "  warnings.warn(\n"
          ]
        }
      ]
    },
    {
      "cell_type": "code",
      "source": [
        "print(kmeans.cluster_centers_)"
      ],
      "metadata": {
        "colab": {
          "base_uri": "https://localhost:8080/"
        },
        "id": "jYp7BN_I1lA2",
        "outputId": "82072d02-b4ef-4fbc-9aea-95568742d1f9"
      },
      "execution_count": null,
      "outputs": [
        {
          "output_type": "stream",
          "name": "stdout",
          "text": [
            "[[3.41927711e+01 1.00000000e+06]\n",
            " [3.29558824e+01 5.00000000e+03]\n",
            " [3.24080000e+01 7.50000000e+05]\n",
            " [3.29130435e+01 1.50000000e+05]]\n"
          ]
        }
      ]
    },
    {
      "cell_type": "code",
      "source": [
        "plt.scatter(x1[:,0],x1[:,1],c=kmeans.labels_,cmap='rainbow')\n",
        "plt.scatter(kmeans.cluster_centers_[:,0],kmeans.cluster_centers_[:,1],color='black')\n",
        "plt.title('Customer Clusters')\n",
        "plt.xlabel('Age ')\n",
        "plt.ylabel('Price')\n",
        "plt.show()"
      ],
      "metadata": {
        "colab": {
          "base_uri": "https://localhost:8080/",
          "height": 472
        },
        "id": "wpb80Kav1pjT",
        "outputId": "93b11617-155a-46a9-847b-2952fd77a432"
      },
      "execution_count": null,
      "outputs": [
        {
          "output_type": "display_data",
          "data": {
            "text/plain": [
              "<Figure size 640x480 with 1 Axes>"
            ],
            "image/png": "[encoded data removed]"
          },
          "metadata": {}
        }
      ]
    },
    {
      "cell_type": "code",
      "source": [
        "x2 = df.loc[:,['Age ', 'Education Level']].values\n",
        "from sklearn.cluster import KMeans\n",
        "wcss= []\n",
        "for k in range(1,11):\n",
        "  kmeans= KMeans(n_clusters=k, init='k-means++')\n",
        "  kmeans.fit(x2)\n",
        "  wcss.append(kmeans.inertia_)\n",
        "plt.figure(figsize=(12,6))\n",
        "plt.grid()\n",
        "plt.plot(range(1,11),wcss,linewidth=2,color='red',marker='8')\n",
        "plt.xlabel('K Value')\n",
        "plt.ylabel('WCSS')\n",
        "plt.show()\n",
        "     "
      ],
      "metadata": {
        "colab": {
          "base_uri": "https://localhost:8080/",
          "height": 909
        },
        "id": "FFuFVASf1two",
        "outputId": "ca08f327-ee11-49aa-deee-5131c36e84dc"
      },
      "execution_count": null,
      "outputs": [
        {
          "output_type": "stream",
          "name": "stderr",
          "text": [
            "/usr/local/lib/python3.10/dist-packages/sklearn/cluster/_kmeans.py:870: FutureWarning: The default value of `n_init` will change from 10 to 'auto' in 1.4. Set the value of `n_init` explicitly to suppress the warning\n",
            "  warnings.warn(\n",
            "/usr/local/lib/python3.10/dist-packages/sklearn/cluster/_kmeans.py:870: FutureWarning: The default value of `n_init` will change from 10 to 'auto' in 1.4. Set the value of `n_init` explicitly to suppress the warning\n",
            "  warnings.warn(\n",
            "/usr/local/lib/python3.10/dist-packages/sklearn/cluster/_kmeans.py:870: FutureWarning: The default value of `n_init` will change from 10 to 'auto' in 1.4. Set the value of `n_init` explicitly to suppress the warning\n",
            "  warnings.warn(\n",
            "/usr/local/lib/python3.10/dist-packages/sklearn/cluster/_kmeans.py:870: FutureWarning: The default value of `n_init` will change from 10 to 'auto' in 1.4. Set the value of `n_init` explicitly to suppress the warning\n",
            "  warnings.warn(\n",
            "/usr/local/lib/python3.10/dist-packages/sklearn/cluster/_kmeans.py:870: FutureWarning: The default value of `n_init` will change from 10 to 'auto' in 1.4. Set the value of `n_init` explicitly to suppress the warning\n",
            "  warnings.warn(\n",
            "/usr/local/lib/python3.10/dist-packages/sklearn/cluster/_kmeans.py:870: FutureWarning: The default value of `n_init` will change from 10 to 'auto' in 1.4. Set the value of `n_init` explicitly to suppress the warning\n",
            "  warnings.warn(\n",
            "/usr/local/lib/python3.10/dist-packages/sklearn/cluster/_kmeans.py:870: FutureWarning: The default value of `n_init` will change from 10 to 'auto' in 1.4. Set the value of `n_init` explicitly to suppress the warning\n",
            "  warnings.warn(\n",
            "/usr/local/lib/python3.10/dist-packages/sklearn/cluster/_kmeans.py:870: FutureWarning: The default value of `n_init` will change from 10 to 'auto' in 1.4. Set the value of `n_init` explicitly to suppress the warning\n",
            "  warnings.warn(\n",
            "/usr/local/lib/python3.10/dist-packages/sklearn/cluster/_kmeans.py:870: FutureWarning: The default value of `n_init` will change from 10 to 'auto' in 1.4. Set the value of `n_init` explicitly to suppress the warning\n",
            "  warnings.warn(\n",
            "/usr/local/lib/python3.10/dist-packages/sklearn/cluster/_kmeans.py:870: FutureWarning: The default value of `n_init` will change from 10 to 'auto' in 1.4. Set the value of `n_init` explicitly to suppress the warning\n",
            "  warnings.warn(\n"
          ]
        },
        {
          "output_type": "display_data",
          "data": {
            "text/plain": [
              "<Figure size 1200x600 with 1 Axes>"
            ],
            "image/png": "[encoded data removed]"
          },
          "metadata": {}
        }
      ]
    },
    {
      "cell_type": "code",
      "source": [
        "kmeans = KMeans(n_clusters=3)\n",
        "label = kmeans.fit_predict(x2)\n",
        "print(label)"
      ],
      "metadata": {
        "colab": {
          "base_uri": "https://localhost:8080/"
        },
        "id": "1I8xjfib1x5J",
        "outputId": "c1c62d02-d722-4ba2-97e4-6fa4ed96f9a2"
      },
      "execution_count": null,
      "outputs": [
        {
          "output_type": "stream",
          "name": "stderr",
          "text": [
            "/usr/local/lib/python3.10/dist-packages/sklearn/cluster/_kmeans.py:870: FutureWarning: The default value of `n_init` will change from 10 to 'auto' in 1.4. Set the value of `n_init` explicitly to suppress the warning\n",
            "  warnings.warn(\n"
          ]
        },
        {
          "output_type": "stream",
          "name": "stdout",
          "text": [
            "[0 0 0 0 0 0 0 0 0 0 0 0 0 0 2 2 2 2 2 0 1 1 1 1 1 1 1 1 2 1 1 1 1 0 0 0 0\n",
            " 0 2 0 2 2 2 2 2 1 1 0 1 1 1 0 0 0 0 0 0 0 2 0 2 0 2 0 2 2 1 1 1 1 0 0 0 0\n",
            " 0 0 0 0 2 2 2 2 2 2 2 2 2 2 1 1 0 0 0 0 0 0 0 0 0 0 0 2 2 2 2 2 2 1 1 0 0\n",
            " 0 0 0 0 0 0 0 0 0 2 2 2 2 2 2 1 1 1 1 0 0 0 0 0 0 0 0 1 2 1 1 1 1 0 0 0 0\n",
            " 0 2 0 2 2 1 2 1 1 1 1 0 0 0 0 0 2 0 2 2 2 1 1 1 1 0 0 0 0 0 0 0 0 1 2 1 1\n",
            " 1 1 0 0 0 0 0 2 0 2 2 0 2 2 0 0 0 1 1 1 0 0 2 2 2 2 1 1 1 1 0 0 0 0 0 0 0\n",
            " 0 0 1 0 0 2 2 2 2 0 2 2 2 2 1 1 1 1 0 0 0 0 0 0 0 0 2 2 2 2 1 1 1 1 0 0 0\n",
            " 0 0 0 0 2 2 1 1 1 1 0 0 0 0 0 0 0 0 1 1 1 0 0 0 2 2 2 2 1 1 1 1 0 0 0 0 0\n",
            " 0 0 0]\n"
          ]
        }
      ]
    },
    {
      "cell_type": "code",
      "source": [
        "print(kmeans.cluster_centers_)"
      ],
      "metadata": {
        "colab": {
          "base_uri": "https://localhost:8080/"
        },
        "id": "I1Yt3FFE13Ca",
        "outputId": "ee6938d9-d3de-4e59-8ccf-cbb008a02004"
      },
      "execution_count": null,
      "outputs": [
        {
          "output_type": "stream",
          "name": "stdout",
          "text": [
            "[[23.90540541  1.57432432]\n",
            " [47.42666667  1.56      ]\n",
            " [36.73684211  1.61842105]]\n"
          ]
        }
      ]
    },
    {
      "cell_type": "code",
      "source": [
        "plt.scatter(x2[:,0],x2[:,1],c=kmeans.labels_,cmap='rainbow')\n",
        "plt.scatter(kmeans.cluster_centers_[:,0],kmeans.cluster_centers_[:,1],color='black')\n",
        "plt.title('Customer Clusters')\n",
        "plt.xlabel('Annual Income')\n",
        "plt.ylabel('Price')\n",
        "plt.show()"
      ],
      "metadata": {
        "colab": {
          "base_uri": "https://localhost:8080/",
          "height": 472
        },
        "id": "1reip_Rf15Yq",
        "outputId": "14150ce0-910b-415d-9678-71e5547e7220"
      },
      "execution_count": null,
      "outputs": [
        {
          "output_type": "display_data",
          "data": {
            "text/plain": [
              "<Figure size 640x480 with 1 Axes>"
            ],
            "image/png": "[encoded data removed]"
          },
          "metadata": {}
        }
      ]
    },
    {
      "cell_type": "code",
      "source": [
        "df.head(5)"
      ],
      "metadata": {
        "colab": {
          "base_uri": "https://localhost:8080/",
          "height": 389
        },
        "id": "IZ36A2B-19fX",
        "outputId": "c1a7d75d-946a-4ecb-c311-cb73df9fb136"
      },
      "execution_count": null,
      "outputs": [
        {
          "output_type": "execute_result",
          "data": {
            "text/plain": [
              "   Age        City Gender  Education Level  Occupation  Family Members  \\\n",
              "0    29    Kolkata   Male                3           2               5   \n",
              "1    29     Mumbai   Male                1           2               4   \n",
              "2    25     Mumbai   Male                1           2               4   \n",
              "3    25  Bangalore   Male                1           2               4   \n",
              "4    21     Mumbai   Male                3           1               4   \n",
              "\n",
              "   Annual Income  Charging Hours Electric Cars are economical  \\\n",
              "0         150000               1                          Yes   \n",
              "1        1000000               1                          Yes   \n",
              "2           5000               5                          Yes   \n",
              "3         750000               1                   Don't know   \n",
              "4           5000              12                   Don't know   \n",
              "\n",
              "   Charging stations Convert your car to all electric Hybrid or Both  \\\n",
              "0                 15                              Yes     Hybrid car   \n",
              "1                  8                              Yes   Electric car   \n",
              "2                 15            Didn't think about it     Hybrid car   \n",
              "3                  8            Didn't think about it     Hybrid car   \n",
              "4                 15            Didn't think about it     Hybrid car   \n",
              "\n",
              "   Next car will be electric car? Income_bin  Income_bin1  \n",
              "0                               5        Low            0  \n",
              "1                               5        Low            0  \n",
              "2                               5        Low            0  \n",
              "3                               5        Low            0  \n",
              "4                               5        Low            0  "
            ],
            "text/html": [
              "\n",
              "  <div id=\"df-e02a6743-c898-4cb6-b6a7-567e91a97ce4\">\n",
              "    <div class=\"colab-df-container\">\n",
              "      <div>\n",
              "<style scoped>\n",
              "    .dataframe tbody tr th:only-of-type {\n",
              "        vertical-align: middle;\n",
              "    }\n",
              "\n",
              "    .dataframe tbody tr th {\n",
              "        vertical-align: top;\n",
              "    }\n",
              "\n",
              "    .dataframe thead th {\n",
              "        text-align: right;\n",
              "    }\n",
              "</style>\n",
              "<table border=\"1\" class=\"dataframe\">\n",
              "  <thead>\n",
              "    <tr style=\"text-align: right;\">\n",
              "      <th></th>\n",
              "      <th>Age</th>\n",
              "      <th>City</th>\n",
              "      <th>Gender</th>\n",
              "      <th>Education Level</th>\n",
              "      <th>Occupation</th>\n",
              "      <th>Family Members</th>\n",
              "      <th>Annual Income</th>\n",
              "      <th>Charging Hours</th>\n",
              "      <th>Electric Cars are economical</th>\n",
              "      <th>Charging stations</th>\n",
              "      <th>Convert your car to all electric</th>\n",
              "      <th>Hybrid or Both</th>\n",
              "      <th>Next car will be electric car?</th>\n",
              "      <th>Income_bin</th>\n",
              "      <th>Income_bin1</th>\n",
              "    </tr>\n",
              "  </thead>\n",
              "  <tbody>\n",
              "    <tr>\n",
              "      <th>0</th>\n",
              "      <td>29</td>\n",
              "      <td>Kolkata</td>\n",
              "      <td>Male</td>\n",
              "      <td>3</td>\n",
              "      <td>2</td>\n",
              "      <td>5</td>\n",
              "      <td>150000</td>\n",
              "      <td>1</td>\n",
              "      <td>Yes</td>\n",
              "      <td>15</td>\n",
              "      <td>Yes</td>\n",
              "      <td>Hybrid car</td>\n",
              "      <td>5</td>\n",
              "      <td>Low</td>\n",
              "      <td>0</td>\n",
              "    </tr>\n",
              "    <tr>\n",
              "      <th>1</th>\n",
              "      <td>29</td>\n",
              "      <td>Mumbai</td>\n",
              "      <td>Male</td>\n",
              "      <td>1</td>\n",
              "      <td>2</td>\n",
              "      <td>4</td>\n",
              "      <td>1000000</td>\n",
              "      <td>1</td>\n",
              "      <td>Yes</td>\n",
              "      <td>8</td>\n",
              "      <td>Yes</td>\n",
              "      <td>Electric car</td>\n",
              "      <td>5</td>\n",
              "      <td>Low</td>\n",
              "      <td>0</td>\n",
              "    </tr>\n",
              "    <tr>\n",
              "      <th>2</th>\n",
              "      <td>25</td>\n",
              "      <td>Mumbai</td>\n",
              "      <td>Male</td>\n",
              "      <td>1</td>\n",
              "      <td>2</td>\n",
              "      <td>4</td>\n",
              "      <td>5000</td>\n",
              "      <td>5</td>\n",
              "      <td>Yes</td>\n",
              "      <td>15</td>\n",
              "      <td>Didn't think about it</td>\n",
              "      <td>Hybrid car</td>\n",
              "      <td>5</td>\n",
              "      <td>Low</td>\n",
              "      <td>0</td>\n",
              "    </tr>\n",
              "    <tr>\n",
              "      <th>3</th>\n",
              "      <td>25</td>\n",
              "      <td>Bangalore</td>\n",
              "      <td>Male</td>\n",
              "      <td>1</td>\n",
              "      <td>2</td>\n",
              "      <td>4</td>\n",
              "      <td>750000</td>\n",
              "      <td>1</td>\n",
              "      <td>Don't know</td>\n",
              "      <td>8</td>\n",
              "      <td>Didn't think about it</td>\n",
              "      <td>Hybrid car</td>\n",
              "      <td>5</td>\n",
              "      <td>Low</td>\n",
              "      <td>0</td>\n",
              "    </tr>\n",
              "    <tr>\n",
              "      <th>4</th>\n",
              "      <td>21</td>\n",
              "      <td>Mumbai</td>\n",
              "      <td>Male</td>\n",
              "      <td>3</td>\n",
              "      <td>1</td>\n",
              "      <td>4</td>\n",
              "      <td>5000</td>\n",
              "      <td>12</td>\n",
              "      <td>Don't know</td>\n",
              "      <td>15</td>\n",
              "      <td>Didn't think about it</td>\n",
              "      <td>Hybrid car</td>\n",
              "      <td>5</td>\n",
              "      <td>Low</td>\n",
              "      <td>0</td>\n",
              "    </tr>\n",
              "  </tbody>\n",
              "</table>\n",
              "</div>\n",
              "      <button class=\"colab-df-convert\" onclick=\"convertToInteractive('df-e02a6743-c898-4cb6-b6a7-567e91a97ce4')\"\n",
              "              title=\"Convert this dataframe to an interactive table.\"\n",
              "              style=\"display:none;\">\n",
              "        \n",
              "  <svg xmlns=\"http://www.w3.org/2000/svg\" height=\"24px\"viewBox=\"0 0 24 24\"\n",
              "       width=\"24px\">\n",
              "    <path d=\"M0 0h24v24H0V0z\" fill=\"none\"/>\n",
              "    <path d=\"M18.56 5.44l.94 2.06.94-2.06 2.06-.94-2.06-.94-.94-2.06-.94 2.06-2.06.94zm-11 1L8.5 8.5l.94-2.06 2.06-.94-2.06-.94L8.5 2.5l-.94 2.06-2.06.94zm10 10l.94 2.06.94-2.06 2.06-.94-2.06-.94-.94-2.06-.94 2.06-2.06.94z\"/><path d=\"M17.41 7.96l-1.37-1.37c-.4-.4-.92-.59-1.43-.59-.52 0-1.04.2-1.43.59L10.3 9.45l-7.72 7.72c-.78.78-.78 2.05 0 2.83L4 21.41c.39.39.9.59 1.41.59.51 0 1.02-.2 1.41-.59l7.78-7.78 2.81-2.81c.8-.78.8-2.07 0-2.86zM5.41 20L4 18.59l7.72-7.72 1.47 1.35L5.41 20z\"/>\n",
              "  </svg>\n",
              "      </button>\n",
              "      \n",
              "  <style>\n",
              "    .colab-df-container {\n",
              "      display:flex;\n",
              "      flex-wrap:wrap;\n",
              "      gap: 12px;\n",
              "    }\n",
              "\n",
              "    .colab-df-convert {\n",
              "      background-color: #E8F0FE;\n",
              "      border: none;\n",
              "      border-radius: 50%;\n",
              "      cursor: pointer;\n",
              "      display: none;\n",
              "      fill: #1967D2;\n",
              "      height: 32px;\n",
              "      padding: 0 0 0 0;\n",
              "      width: 32px;\n",
              "    }\n",
              "\n",
              "    .colab-df-convert:hover {\n",
              "      background-color: #E2EBFA;\n",
              "      box-shadow: 0px 1px 2px rgba(60, 64, 67, 0.3), 0px 1px 3px 1px rgba(60, 64, 67, 0.15);\n",
              "      fill: #174EA6;\n",
              "    }\n",
              "\n",
              "    [theme=dark] .colab-df-convert {\n",
              "      background-color: #3B4455;\n",
              "      fill: #D2E3FC;\n",
              "    }\n",
              "\n",
              "    [theme=dark] .colab-df-convert:hover {\n",
              "      background-color: #434B5C;\n",
              "      box-shadow: 0px 1px 3px 1px rgba(0, 0, 0, 0.15);\n",
              "      filter: drop-shadow(0px 1px 2px rgba(0, 0, 0, 0.3));\n",
              "      fill: #FFFFFF;\n",
              "    }\n",
              "  </style>\n",
              "\n",
              "      <script>\n",
              "        const buttonEl =\n",
              "          document.querySelector('#df-e02a6743-c898-4cb6-b6a7-567e91a97ce4 button.colab-df-convert');\n",
              "        buttonEl.style.display =\n",
              "          google.colab.kernel.accessAllowed ? 'block' : 'none';\n",
              "\n",
              "        async function convertToInteractive(key) {\n",
              "          const element = document.querySelector('#df-e02a6743-c898-4cb6-b6a7-567e91a97ce4');\n",
              "          const dataTable =\n",
              "            await google.colab.kernel.invokeFunction('convertToInteractive',\n",
              "                                                     [key], {});\n",
              "          if (!dataTable) return;\n",
              "\n",
              "          const docLinkHtml = 'Like what you see? Visit the ' +\n",
              "            '<a target=\"_blank\" href=https://colab.research.google.com/notebooks/data_table.ipynb>data table notebook</a>'\n",
              "            + ' to learn more about interactive tables.';\n",
              "          element.innerHTML = '';\n",
              "          dataTable['output_type'] = 'display_data';\n",
              "          await google.colab.output.renderOutput(dataTable, element);\n",
              "          const docLink = document.createElement('div');\n",
              "          docLink.innerHTML = docLinkHtml;\n",
              "          element.appendChild(docLink);\n",
              "        }\n",
              "      </script>\n",
              "    </div>\n",
              "  </div>\n",
              "  "
            ]
          },
          "metadata": {},
          "execution_count": 63
        }
      ]
    },
    {
      "cell_type": "code",
      "source": [
        "df1 = df.drop(columns=['Income_bin', 'Charging Hours'\t,'Charging stations','Income_bin1','Hybrid or Both','Occupation','Gender', 'Education Level', 'Family Members', 'City','Electric Cars are economical','Convert your car to all electric','Next car will be electric car?'])"
      ],
      "metadata": {
        "id": "LD2ntFb92AWn"
      },
      "execution_count": null,
      "outputs": []
    },
    {
      "cell_type": "code",
      "source": [
        "df1.head()"
      ],
      "metadata": {
        "colab": {
          "base_uri": "https://localhost:8080/",
          "height": 206
        },
        "id": "-qZxTG8I2PxC",
        "outputId": "81b5f203-9e3c-40f0-f83a-9b5a202ae938"
      },
      "execution_count": null,
      "outputs": [
        {
          "output_type": "execute_result",
          "data": {
            "text/plain": [
              "   Age   Annual Income\n",
              "0    29         150000\n",
              "1    29        1000000\n",
              "2    25           5000\n",
              "3    25         750000\n",
              "4    21           5000"
            ],
            "text/html": [
              "\n",
              "  <div id=\"df-473ba36d-f2dd-48db-b290-302151421821\">\n",
              "    <div class=\"colab-df-container\">\n",
              "      <div>\n",
              "<style scoped>\n",
              "    .dataframe tbody tr th:only-of-type {\n",
              "        vertical-align: middle;\n",
              "    }\n",
              "\n",
              "    .dataframe tbody tr th {\n",
              "        vertical-align: top;\n",
              "    }\n",
              "\n",
              "    .dataframe thead th {\n",
              "        text-align: right;\n",
              "    }\n",
              "</style>\n",
              "<table border=\"1\" class=\"dataframe\">\n",
              "  <thead>\n",
              "    <tr style=\"text-align: right;\">\n",
              "      <th></th>\n",
              "      <th>Age</th>\n",
              "      <th>Annual Income</th>\n",
              "    </tr>\n",
              "  </thead>\n",
              "  <tbody>\n",
              "    <tr>\n",
              "      <th>0</th>\n",
              "      <td>29</td>\n",
              "      <td>150000</td>\n",
              "    </tr>\n",
              "    <tr>\n",
              "      <th>1</th>\n",
              "      <td>29</td>\n",
              "      <td>1000000</td>\n",
              "    </tr>\n",
              "    <tr>\n",
              "      <th>2</th>\n",
              "      <td>25</td>\n",
              "      <td>5000</td>\n",
              "    </tr>\n",
              "    <tr>\n",
              "      <th>3</th>\n",
              "      <td>25</td>\n",
              "      <td>750000</td>\n",
              "    </tr>\n",
              "    <tr>\n",
              "      <th>4</th>\n",
              "      <td>21</td>\n",
              "      <td>5000</td>\n",
              "    </tr>\n",
              "  </tbody>\n",
              "</table>\n",
              "</div>\n",
              "      <button class=\"colab-df-convert\" onclick=\"convertToInteractive('df-473ba36d-f2dd-48db-b290-302151421821')\"\n",
              "              title=\"Convert this dataframe to an interactive table.\"\n",
              "              style=\"display:none;\">\n",
              "        \n",
              "  <svg xmlns=\"http://www.w3.org/2000/svg\" height=\"24px\"viewBox=\"0 0 24 24\"\n",
              "       width=\"24px\">\n",
              "    <path d=\"M0 0h24v24H0V0z\" fill=\"none\"/>\n",
              "    <path d=\"M18.56 5.44l.94 2.06.94-2.06 2.06-.94-2.06-.94-.94-2.06-.94 2.06-2.06.94zm-11 1L8.5 8.5l.94-2.06 2.06-.94-2.06-.94L8.5 2.5l-.94 2.06-2.06.94zm10 10l.94 2.06.94-2.06 2.06-.94-2.06-.94-.94-2.06-.94 2.06-2.06.94z\"/><path d=\"M17.41 7.96l-1.37-1.37c-.4-.4-.92-.59-1.43-.59-.52 0-1.04.2-1.43.59L10.3 9.45l-7.72 7.72c-.78.78-.78 2.05 0 2.83L4 21.41c.39.39.9.59 1.41.59.51 0 1.02-.2 1.41-.59l7.78-7.78 2.81-2.81c.8-.78.8-2.07 0-2.86zM5.41 20L4 18.59l7.72-7.72 1.47 1.35L5.41 20z\"/>\n",
              "  </svg>\n",
              "      </button>\n",
              "      \n",
              "  <style>\n",
              "    .colab-df-container {\n",
              "      display:flex;\n",
              "      flex-wrap:wrap;\n",
              "      gap: 12px;\n",
              "    }\n",
              "\n",
              "    .colab-df-convert {\n",
              "      background-color: #E8F0FE;\n",
              "      border: none;\n",
              "      border-radius: 50%;\n",
              "      cursor: pointer;\n",
              "      display: none;\n",
              "      fill: #1967D2;\n",
              "      height: 32px;\n",
              "      padding: 0 0 0 0;\n",
              "      width: 32px;\n",
              "    }\n",
              "\n",
              "    .colab-df-convert:hover {\n",
              "      background-color: #E2EBFA;\n",
              "      box-shadow: 0px 1px 2px rgba(60, 64, 67, 0.3), 0px 1px 3px 1px rgba(60, 64, 67, 0.15);\n",
              "      fill: #174EA6;\n",
              "    }\n",
              "\n",
              "    [theme=dark] .colab-df-convert {\n",
              "      background-color: #3B4455;\n",
              "      fill: #D2E3FC;\n",
              "    }\n",
              "\n",
              "    [theme=dark] .colab-df-convert:hover {\n",
              "      background-color: #434B5C;\n",
              "      box-shadow: 0px 1px 3px 1px rgba(0, 0, 0, 0.15);\n",
              "      filter: drop-shadow(0px 1px 2px rgba(0, 0, 0, 0.3));\n",
              "      fill: #FFFFFF;\n",
              "    }\n",
              "  </style>\n",
              "\n",
              "      <script>\n",
              "        const buttonEl =\n",
              "          document.querySelector('#df-473ba36d-f2dd-48db-b290-302151421821 button.colab-df-convert');\n",
              "        buttonEl.style.display =\n",
              "          google.colab.kernel.accessAllowed ? 'block' : 'none';\n",
              "\n",
              "        async function convertToInteractive(key) {\n",
              "          const element = document.querySelector('#df-473ba36d-f2dd-48db-b290-302151421821');\n",
              "          const dataTable =\n",
              "            await google.colab.kernel.invokeFunction('convertToInteractive',\n",
              "                                                     [key], {});\n",
              "          if (!dataTable) return;\n",
              "\n",
              "          const docLinkHtml = 'Like what you see? Visit the ' +\n",
              "            '<a target=\"_blank\" href=https://colab.research.google.com/notebooks/data_table.ipynb>data table notebook</a>'\n",
              "            + ' to learn more about interactive tables.';\n",
              "          element.innerHTML = '';\n",
              "          dataTable['output_type'] = 'display_data';\n",
              "          await google.colab.output.renderOutput(dataTable, element);\n",
              "          const docLink = document.createElement('div');\n",
              "          docLink.innerHTML = docLinkHtml;\n",
              "          element.appendChild(docLink);\n",
              "        }\n",
              "      </script>\n",
              "    </div>\n",
              "  </div>\n",
              "  "
            ]
          },
          "metadata": {},
          "execution_count": 75
        }
      ]
    },
    {
      "cell_type": "code",
      "source": [
        "x5 = df1.iloc[:,0:]\n",
        "wcss= []\n",
        "for k in range(1,11):\n",
        "  kmeans= KMeans(n_clusters=k, init='k-means++')\n",
        "  kmeans.fit(x5)\n",
        "  wcss.append(kmeans.inertia_)\n",
        "plt.figure(figsize=(12,6))\n",
        "plt.grid()\n",
        "plt.plot(range(1,11),wcss,linewidth=2,color='red',marker='8')\n",
        "plt.xlabel('K Value')\n",
        "plt.ylabel('WCSS')\n",
        "plt.show()"
      ],
      "metadata": {
        "colab": {
          "base_uri": "https://localhost:8080/",
          "height": 924
        },
        "id": "VXgH-NiP2Z_X",
        "outputId": "434123e4-88e9-40f9-b2c8-d159a4a4cfc0"
      },
      "execution_count": null,
      "outputs": [
        {
          "output_type": "stream",
          "name": "stderr",
          "text": [
            "/usr/local/lib/python3.10/dist-packages/sklearn/cluster/_kmeans.py:870: FutureWarning: The default value of `n_init` will change from 10 to 'auto' in 1.4. Set the value of `n_init` explicitly to suppress the warning\n",
            "  warnings.warn(\n",
            "/usr/local/lib/python3.10/dist-packages/sklearn/cluster/_kmeans.py:870: FutureWarning: The default value of `n_init` will change from 10 to 'auto' in 1.4. Set the value of `n_init` explicitly to suppress the warning\n",
            "  warnings.warn(\n",
            "/usr/local/lib/python3.10/dist-packages/sklearn/cluster/_kmeans.py:870: FutureWarning: The default value of `n_init` will change from 10 to 'auto' in 1.4. Set the value of `n_init` explicitly to suppress the warning\n",
            "  warnings.warn(\n",
            "/usr/local/lib/python3.10/dist-packages/sklearn/cluster/_kmeans.py:870: FutureWarning: The default value of `n_init` will change from 10 to 'auto' in 1.4. Set the value of `n_init` explicitly to suppress the warning\n",
            "  warnings.warn(\n",
            "/usr/local/lib/python3.10/dist-packages/sklearn/cluster/_kmeans.py:870: FutureWarning: The default value of `n_init` will change from 10 to 'auto' in 1.4. Set the value of `n_init` explicitly to suppress the warning\n",
            "  warnings.warn(\n",
            "/usr/local/lib/python3.10/dist-packages/sklearn/cluster/_kmeans.py:870: FutureWarning: The default value of `n_init` will change from 10 to 'auto' in 1.4. Set the value of `n_init` explicitly to suppress the warning\n",
            "  warnings.warn(\n",
            "/usr/local/lib/python3.10/dist-packages/sklearn/cluster/_kmeans.py:870: FutureWarning: The default value of `n_init` will change from 10 to 'auto' in 1.4. Set the value of `n_init` explicitly to suppress the warning\n",
            "  warnings.warn(\n",
            "/usr/local/lib/python3.10/dist-packages/sklearn/cluster/_kmeans.py:870: FutureWarning: The default value of `n_init` will change from 10 to 'auto' in 1.4. Set the value of `n_init` explicitly to suppress the warning\n",
            "  warnings.warn(\n",
            "/usr/local/lib/python3.10/dist-packages/sklearn/cluster/_kmeans.py:870: FutureWarning: The default value of `n_init` will change from 10 to 'auto' in 1.4. Set the value of `n_init` explicitly to suppress the warning\n",
            "  warnings.warn(\n",
            "/usr/local/lib/python3.10/dist-packages/sklearn/cluster/_kmeans.py:870: FutureWarning: The default value of `n_init` will change from 10 to 'auto' in 1.4. Set the value of `n_init` explicitly to suppress the warning\n",
            "  warnings.warn(\n"
          ]
        },
        {
          "output_type": "display_data",
          "data": {
            "text/plain": [
              "<Figure size 1200x600 with 1 Axes>"
            ],
            "image/png": "[encoded data removed]"
          },
          "metadata": {}
        }
      ]
    },
    {
      "cell_type": "code",
      "source": [
        "kmeans = KMeans(n_clusters=3)\n",
        "label = kmeans.fit_predict(x5)\n",
        "print(label)"
      ],
      "metadata": {
        "colab": {
          "base_uri": "https://localhost:8080/"
        },
        "id": "eV67oO0K3JBF",
        "outputId": "5b5ebaa5-9271-4197-b20c-2c99461d7120"
      },
      "execution_count": null,
      "outputs": [
        {
          "output_type": "stream",
          "name": "stdout",
          "text": [
            "[1 2 1 0 1 1 0 0 0 0 2 1 2 0 0 1 0 1 1 2 1 2 0 2 1 0 1 1 0 0 0 2 2 2 0 0 0\n",
            " 0 2 2 0 0 0 0 2 0 0 0 2 2 1 1 2 0 0 2 2 0 0 0 1 1 0 0 2 2 1 1 2 2 2 0 0 2\n",
            " 2 1 2 1 0 0 0 0 1 1 1 1 2 1 1 2 1 1 1 1 0 0 0 2 1 0 1 1 0 0 0 0 2 1 2 0 0\n",
            " 1 0 1 1 2 1 2 0 2 1 0 1 1 0 0 0 2 2 2 0 0 0 0 2 2 0 0 0 0 2 0 0 0 2 2 1 1\n",
            " 2 0 0 2 2 0 0 0 1 1 0 0 2 2 1 1 2 2 2 0 0 2 2 1 2 1 0 0 0 0 1 1 1 1 2 1 1\n",
            " 2 1 1 1 1 0 0 0 2 1 0 1 1 0 0 0 0 2 1 2 0 0 1 0 1 1 2 1 2 0 2 1 0 1 1 0 0\n",
            " 0 2 2 2 0 0 0 0 2 2 0 0 0 0 2 0 0 0 2 2 1 1 2 0 0 2 2 0 0 0 1 1 0 0 2 2 1\n",
            " 1 2 2 2 0 0 2 2 1 2 1 0 0 0 0 1 1 1 1 2 1 1 2 1 1 1 1 0 0 0 2 1 0 1 1 0 0\n",
            " 0 0 2]\n"
          ]
        },
        {
          "output_type": "stream",
          "name": "stderr",
          "text": [
            "/usr/local/lib/python3.10/dist-packages/sklearn/cluster/_kmeans.py:870: FutureWarning: The default value of `n_init` will change from 10 to 'auto' in 1.4. Set the value of `n_init` explicitly to suppress the warning\n",
            "  warnings.warn(\n"
          ]
        }
      ]
    },
    {
      "cell_type": "code",
      "source": [
        "print(kmeans.cluster_centers_)"
      ],
      "metadata": {
        "colab": {
          "base_uri": "https://localhost:8080/"
        },
        "id": "8OYc6uAW3LL7",
        "outputId": "f7063b17-41da-4f37-f44f-00a9aa6f55ef"
      },
      "execution_count": null,
      "outputs": [
        {
          "output_type": "stream",
          "name": "stdout",
          "text": [
            "[[3.24080000e+01 7.50000000e+05]\n",
            " [3.29450549e+01 4.16483516e+04]\n",
            " [3.41927711e+01 1.00000000e+06]]\n"
          ]
        }
      ]
    },
    {
      "cell_type": "code",
      "source": [],
      "metadata": {
        "id": "jeUQybwj3Njc"
      },
      "execution_count": null,
      "outputs": []
    }
  ]
}